{
 "cells": [
  {
   "cell_type": "markdown",
   "metadata": {},
   "source": [
    "# Investigating Tectonic Plates with Conditionals\n",
    "\n",
    "In this notebook you'll get a chance to practice conditionals and review the earth science topics we've learned so far.\n",
    "\n",
    "**Reminder: To run the code in a Jupyter notebook cell, click inside the cell and press \"shift\" and \"return\" on your keyboard at the same time.**"
   ]
  },
  {
   "cell_type": "code",
   "execution_count": 11,
   "metadata": {},
   "outputs": [
    {
     "name": "stdout",
     "output_type": "stream",
     "text": [
      "Hello, Nataley!\n"
     ]
    }
   ],
   "source": [
    "# Use this blank cell to follow along with the live coding intro\n",
    "name = \"Nataley\"\n",
    "if name == \"Nataley\":\n",
    "    print(\"Hello, Nataley!\")\n",
    "elif name == \"Lauren\":\n",
    "    print(\"Hello, Lauren!\")\n",
    "    #everytging else\n",
    "    "
   ]
  },
  {
   "cell_type": "markdown",
   "metadata": {},
   "source": [
    "## Defining the plate boundaries\n",
    "### Pair Programming Part 1: Choose a \"driver\" and a \"navigator\"\n",
    "**The driver will type while the navigator guides her.**"
   ]
  },
  {
   "cell_type": "markdown",
   "metadata": {},
   "source": [
    "Create a variable named \"p_bound\" and set it equal to one of the following types of tectonic plate boundaries:\n",
    "- convergent\n",
    "- divergent\n",
    "- transform\n",
    "\n",
    "Hint: Think about what datatype you will be using"
   ]
  },
  {
   "cell_type": "code",
   "execution_count": 13,
   "metadata": {},
   "outputs": [],
   "source": [
    "p_bound = \"convergent\""
   ]
  },
  {
   "cell_type": "markdown",
   "metadata": {
    "collapsed": true
   },
   "source": [
    "Come up with a definition for each kind of plate boundary. Then write code that prints out the correct definition depending on which type of boundary you assigned: \n",
    "\n",
    "_Note: Your code should include three possible definitions and several conditional statements_"
   ]
  },
  {
   "cell_type": "code",
   "execution_count": 14,
   "metadata": {},
   "outputs": [
    {
     "name": "stdout",
     "output_type": "stream",
     "text": [
      "move towards each other\n"
     ]
    }
   ],
   "source": [
    "if p_bound == \"convergent\":\n",
    "    print(\"move towards each other\")\n",
    "elif p_bound == \"divergent\":\n",
    "    print(\"move in opposite directions\")\n",
    "else:\n",
    "    print(\"slide past each other\")\n",
    "    "
   ]
  },
  {
   "cell_type": "markdown",
   "metadata": {},
   "source": [
    "**Now _change_ the type of plate boundary that you assigned to p_bound and _rerun_ both cells above**"
   ]
  },
  {
   "cell_type": "markdown",
   "metadata": {},
   "source": [
    "## Different boundaries: The Pacific plate\n",
    "\n",
    "### Pair Programming Part 2: Swap \"driver\" and \"navigator\"\n",
    "**The driver will type while the navigator guides her.** \n",
    "Note: Before you start Part 2, this is a good time for the navigator from part 1 to copy the part 1 code into her own Jupyter Notebook. Make sure you discuss any questions you have.\n",
    "\n",
    "Find the Pacific plate on your tectonic plate map. Create a list for each plate that borders the Pacific plate and add all the plate boundaries between those two plates, even if there are duplicate plate boundaries or 0 active plate boundaries (if there are 0, just create an empty list)."
   ]
  },
  {
   "cell_type": "code",
   "execution_count": null,
   "metadata": {
    "collapsed": true
   },
   "outputs": [],
   "source": [
    "# Example:\n",
    "Australian = [\"convergent\", \"convergent\"]\n",
    "\n",
    "# Create the rest of the lists below:\n"
   ]
  },
  {
   "cell_type": "markdown",
   "metadata": {},
   "source": [
    "Now write a conditional that compares any two plates that border the Pacific plate and prints out the plate with more active boundaries and the difference in the number of boundaries between the two plates.\n",
    "\n",
    "For example, if plate A has 4 active boundaries with the Pacific plate and plate B has 2, your code could print out \"Plate A has 2 more boundaries than plate B\"."
   ]
  },
  {
   "cell_type": "code",
   "execution_count": null,
   "metadata": {},
   "outputs": [],
   "source": [
    "# Hint: Your code should have an if, an elif, and an else statement\n",
    "# Hint: While you cannot add strings and integers, you can print them next to each other\n",
    "# by separating them with a comma in a single print statement like this: print(\"a\",2)\n",
    "\n"
   ]
  },
  {
   "cell_type": "markdown",
   "metadata": {},
   "source": [
    "## Bonus Challenge\n",
    "### Making new crust: the African plate\n",
    "\n",
    "\n",
    "**Choose a driver and a navigator.** As you will notice from your map, the African plate forms only divergent boundaries with the plates around it. The image below lists the speed at which the plates are moving relative to one another in **mm/year**:\n",
    "![map of tectonic plate boundaries with speeds](https://www.open.edu/openlearn/ocw/pluginfile.php/66559/mod_oucontent/oucontent/467/e0f4b777/35b33ea4/s279_1_008i.jpg)\n",
    "\n",
    "Create a list that contains all the speeds of the divergent boundaries at the African plate and assign it to a variable:"
   ]
  },
  {
   "cell_type": "code",
   "execution_count": null,
   "metadata": {
    "collapsed": true
   },
   "outputs": [],
   "source": []
  },
  {
   "cell_type": "markdown",
   "metadata": {},
   "source": [
    "As the divergent plates spread apart, magma emerges and forms new crust. Write a conditional that checks to see if the fastest divergent boundary of the African plate will create at least 1 meter (1000 mm) of new crust after 20 years and prints out \"1 meter in 20 years\" if it does:"
   ]
  },
  {
   "cell_type": "code",
   "execution_count": null,
   "metadata": {
    "collapsed": true
   },
   "outputs": [],
   "source": []
  },
  {
   "cell_type": "markdown",
   "metadata": {},
   "source": [
    "Now **add a new conditional statement** to your code to check if at least 1 meter of new crust will be created after 50 years and prints out \"1 meter in 50 years\" if it does:"
   ]
  },
  {
   "cell_type": "code",
   "execution_count": null,
   "metadata": {},
   "outputs": [],
   "source": []
  }
 ],
 "metadata": {
  "kernelspec": {
   "display_name": "Python 3",
   "language": "python",
   "name": "python3"
  },
  "language_info": {
   "codemirror_mode": {
    "name": "ipython",
    "version": 3
   },
   "file_extension": ".py",
   "mimetype": "text/x-python",
   "name": "python",
   "nbconvert_exporter": "python",
   "pygments_lexer": "ipython3",
   "version": "3.7.3"
  }
 },
 "nbformat": 4,
 "nbformat_minor": 2
}
