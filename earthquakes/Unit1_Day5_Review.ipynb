{
 "cells": [
  {
   "cell_type": "markdown",
   "metadata": {},
   "source": [
    "# Lists and Conditionals review\n",
    "\n",
    "Complete this review to show off what you know about lists and conditionals in Python. The first group to complete the review successfully will win stickers! \n",
    "\n",
    "**Reminder: To run the code in a Jupyter Notebook cell, click inside the cell and press \"shift\" and \"return\" on your keyboard at the same time.**"
   ]
  },
  {
   "cell_type": "markdown",
   "metadata": {},
   "source": [
    "Create a list that contains all the layers of the earth:"
   ]
  },
  {
   "cell_type": "code",
   "execution_count": 2,
   "metadata": {},
   "outputs": [],
   "source": [
    "# What data type will these values be? Be careful with your formatting!\n",
    "layers = [\"core\", \"mantle\", \"crust\"]"
   ]
  },
  {
   "cell_type": "markdown",
   "metadata": {},
   "source": [
    "Print out the first item in this list:"
   ]
  },
  {
   "cell_type": "code",
   "execution_count": 3,
   "metadata": {},
   "outputs": [
    {
     "name": "stdout",
     "output_type": "stream",
     "text": [
      "core\n"
     ]
    }
   ],
   "source": [
    "print(layers[0])"
   ]
  },
  {
   "cell_type": "markdown",
   "metadata": {},
   "source": [
    "Print out a sentence that tells us the number of layers of the earth, using the len function:"
   ]
  },
  {
   "cell_type": "code",
   "execution_count": 7,
   "metadata": {},
   "outputs": [
    {
     "name": "stdout",
     "output_type": "stream",
     "text": [
      " The earth has 3 layers\n"
     ]
    }
   ],
   "source": [
    "print(\" The earth has\", len(layers), \"layers\")"
   ]
  },
  {
   "cell_type": "markdown",
   "metadata": {},
   "source": [
    "Create a variable and assign it to any number between 5 and 5000:"
   ]
  },
  {
   "cell_type": "code",
   "execution_count": 12,
   "metadata": {},
   "outputs": [],
   "source": [
    "variable = 125"
   ]
  },
  {
   "cell_type": "markdown",
   "metadata": {},
   "source": [
    "The shallowest part of the mantle is 100 km deep and the deepest part is 2700 km deep. \n",
    "\n",
    "Write a conditional that checks to see if your variable is shallower than the mantle, in the mantle, or deeper than the mantle:"
   ]
  },
  {
   "cell_type": "code",
   "execution_count": 13,
   "metadata": {},
   "outputs": [
    {
     "name": "stdout",
     "output_type": "stream",
     "text": [
      "The variable is in the mantle\n"
     ]
    }
   ],
   "source": [
    "if variable < 2700 :\n",
    "    print(\"The variable is in the mantle\")\n",
    "elif variable > 2700 :\n",
    "    print (\"the variable is deeper than the mantle\")"
   ]
  },
  {
   "cell_type": "markdown",
   "metadata": {},
   "source": [
    "### Find the bug #1\n",
    "If you run the line of code below, you'll notice it doesn't work! Find and fix the bug in the code to make it run."
   ]
  },
  {
   "cell_type": "code",
   "execution_count": null,
   "metadata": {},
   "outputs": [],
   "source": [
    "my_list = [1, \"hello\", 3.5 4.5]\n",
    "\n",
    "print(len(my_list))"
   ]
  },
  {
   "cell_type": "markdown",
   "metadata": {},
   "source": [
    "### Find the bug #2\n",
    "If you run the line of code below, you'll notice it doesn't work! Find and fix the bug in the code to make it run."
   ]
  },
  {
   "cell_type": "code",
   "execution_count": null,
   "metadata": {},
   "outputs": [],
   "source": [
    "num = 2\n",
    "if num < 5\n",
    "    print (\"Number is less than 5!\")"
   ]
  },
  {
   "cell_type": "markdown",
   "metadata": {},
   "source": [
    "### Find the bug #3\n",
    "If you run the line of code below, you'll notice it doesn't work! Find and fix the bug in the code to make it run."
   ]
  },
  {
   "cell_type": "code",
   "execution_count": null,
   "metadata": {},
   "outputs": [],
   "source": [
    "num = 5\n",
    "\n",
    "if num = 5:\n",
    "    print (\"Number is equal to 5!\")\n",
    "else:\n",
    "    print (\"Number is not equal to 5!\")"
   ]
  }
 ],
 "metadata": {
  "kernelspec": {
   "display_name": "Python 3",
   "language": "python",
   "name": "python3"
  },
  "language_info": {
   "codemirror_mode": {
    "name": "ipython",
    "version": 3
   },
   "file_extension": ".py",
   "mimetype": "text/x-python",
   "name": "python",
   "nbconvert_exporter": "python",
   "pygments_lexer": "ipython3",
   "version": "3.7.3"
  }
 },
 "nbformat": 4,
 "nbformat_minor": 2
}
