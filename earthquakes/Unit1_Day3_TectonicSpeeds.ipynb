{
 "cells": [
  {
   "cell_type": "markdown",
   "metadata": {},
   "source": [
    "# Comparing Oceanic and Continental Tectonic Plates\n",
    "\n",
    "In this notebook we'll analyze the speed of different types of tectonic plates (oceanic and continental). You'll also get to practice using lists and make your first graph!\n",
    "\n",
    "**Reminder: To run the code in a Jupyter notebook cell, click inside the cell and press \"shift\" and \"return\" on your keyboard at the same time.**"
   ]
  },
  {
   "cell_type": "markdown",
   "metadata": {},
   "source": [
    "## Listing tectonic speeds\n",
    "Create a variable for each set of tectonic plates (oceanic and continental) and assign a list of speeds to each one:"
   ]
  },
  {
   "cell_type": "code",
   "execution_count": 1,
   "metadata": {},
   "outputs": [],
   "source": [
    "# You should have one list for oceanic plates and one for continental plate\n",
    "continental_list = [1.96, 3.35, 1.71, 4.34, 2.00]\n",
    "ocean_list = [7.69, 7.74, 7.87, 6.11, 4.16]"
   ]
  },
  {
   "cell_type": "markdown",
   "metadata": {},
   "source": [
    "Use the print( ) and len( ) functions to find the length of these two lists:"
   ]
  },
  {
   "cell_type": "code",
   "execution_count": 2,
   "metadata": {},
   "outputs": [
    {
     "name": "stdout",
     "output_type": "stream",
     "text": [
      "5\n",
      "5\n"
     ]
    }
   ],
   "source": [
    "print(len(continental_list))\n",
    "print(len(ocean_list))\n"
   ]
  },
  {
   "cell_type": "markdown",
   "metadata": {},
   "source": [
    "Now, flip your paper over and use the .append() method to add the new values to the lists:"
   ]
  },
  {
   "cell_type": "code",
   "execution_count": 3,
   "metadata": {},
   "outputs": [
    {
     "name": "stdout",
     "output_type": "stream",
     "text": [
      "[1.96, 3.35, 1.71, 4.34, 2.0, 2.14]\n",
      "[7.69, 7.74, 7.87, 6.11, 4.16, 4.0]\n"
     ]
    }
   ],
   "source": [
    "continental_list.append(2.14)\n",
    "ocean_list.append(4.0)\n",
    "print(continental_list)\n",
    "print(ocean_list)"
   ]
  },
  {
   "cell_type": "markdown",
   "metadata": {},
   "source": [
    "Print out the lengths of the two lists again:"
   ]
  },
  {
   "cell_type": "code",
   "execution_count": 5,
   "metadata": {},
   "outputs": [
    {
     "name": "stdout",
     "output_type": "stream",
     "text": [
      "6\n",
      "6\n"
     ]
    }
   ],
   "source": [
    "print(len(continental_list))\n",
    "print(len(ocean_list))"
   ]
  },
  {
   "cell_type": "markdown",
   "metadata": {},
   "source": [
    "Now, print out the lists themselves:"
   ]
  },
  {
   "cell_type": "code",
   "execution_count": 6,
   "metadata": {},
   "outputs": [
    {
     "name": "stdout",
     "output_type": "stream",
     "text": [
      "[1.96, 3.35, 1.71, 4.34, 2.0, 2.14]\n",
      "[7.69, 7.74, 7.87, 6.11, 4.16, 4.0]\n"
     ]
    }
   ],
   "source": [
    "print(continental_list)\n",
    "print(ocean_list)"
   ]
  },
  {
   "cell_type": "markdown",
   "metadata": {},
   "source": [
    "Use the sum( ) function to find the sum of all values in each list:"
   ]
  },
  {
   "cell_type": "code",
   "execution_count": 7,
   "metadata": {},
   "outputs": [
    {
     "name": "stdout",
     "output_type": "stream",
     "text": [
      "15.5\n",
      "37.57\n"
     ]
    }
   ],
   "source": [
    "print(sum(continental_list))\n",
    "print(sum(ocean_list))"
   ]
  },
  {
   "cell_type": "markdown",
   "metadata": {},
   "source": [
    "Use the min( ) function to find the minimum value in each list:"
   ]
  },
  {
   "cell_type": "code",
   "execution_count": 8,
   "metadata": {},
   "outputs": [
    {
     "name": "stdout",
     "output_type": "stream",
     "text": [
      "1.71\n",
      "4.0\n"
     ]
    }
   ],
   "source": [
    "print(min(continental_list))\n",
    "print(min(ocean_list))"
   ]
  },
  {
   "cell_type": "markdown",
   "metadata": {},
   "source": [
    "Use the max( ) function to find the maximum value in each list:"
   ]
  },
  {
   "cell_type": "code",
   "execution_count": 9,
   "metadata": {},
   "outputs": [
    {
     "name": "stdout",
     "output_type": "stream",
     "text": [
      "4.34\n",
      "7.87\n"
     ]
    }
   ],
   "source": [
    "print(max(continental_list))\n",
    "print(max(ocean_list))"
   ]
  },
  {
   "cell_type": "markdown",
   "metadata": {},
   "source": [
    "Use an index to print out the first item in each list:"
   ]
  },
  {
   "cell_type": "code",
   "execution_count": 12,
   "metadata": {},
   "outputs": [
    {
     "name": "stdout",
     "output_type": "stream",
     "text": [
      "1.96\n",
      "7.69\n"
     ]
    }
   ],
   "source": [
    "# Hint: an index for a list called \"my_list\" looks like this: my_list[1]\n",
    "print(continental_list[0])\n",
    "print(ocean_list[0])"
   ]
  },
  {
   "cell_type": "markdown",
   "metadata": {},
   "source": [
    "## Finding an average\n",
    "Try to calculate the average of the values in each list, assign these values to new variables, and print them out."
   ]
  },
  {
   "cell_type": "code",
   "execution_count": 20,
   "metadata": {},
   "outputs": [
    {
     "name": "stdout",
     "output_type": "stream",
     "text": [
      "6.261666666666667\n",
      "2.5833333333333335\n"
     ]
    }
   ],
   "source": [
    "# Hint: You will need to use list functions\n",
    "ocean_avg = sum(ocean_list)/ len(ocean_list)\n",
    "continental_avg = sum(continental_list)/len(continental_list)\n",
    "\n",
    "print(ocean_avg)\n",
    "print(continental_avg)\n",
    "    "
   ]
  },
  {
   "cell_type": "markdown",
   "metadata": {},
   "source": [
    "## Graphing the average speeds\n",
    "We will live code this section together! If you finish early, you can try to create a bar graph that compares the average speed of the oceanic vs continental plates yourself by consulting the matplotlib cheat sheet."
   ]
  },
  {
   "cell_type": "code",
   "execution_count": 19,
   "metadata": {},
   "outputs": [],
   "source": [
    " import matplotlib.pyplot as plt"
   ]
  },
  {
   "cell_type": "code",
   "execution_count": 27,
   "metadata": {},
   "outputs": [
    {
     "data": {
      "image/png": "[encoded data removed]",
      "text/plain": [
       "<Figure size 432x288 with 1 Axes>"
      ]
     },
     "metadata": {
      "needs_background": "light"
     },
     "output_type": "display_data"
    }
   ],
   "source": [
    "plt.bar([1,2], [ocean_avg, continental_avg], color = [\"purple\", \"black\"])\n",
    "plt.title(\"Average Tectonic Plate Speed\")\n",
    "plt.xticks([1,2], [\"Oceanic\", \"Continental\"])\n",
    "plt.show()"
   ]
  },
  {
   "cell_type": "code",
   "execution_count": null,
   "metadata": {},
   "outputs": [],
   "source": [
    "importy numpy as np\n",
    "print(np.mean)"
   ]
  }
 ],
 "metadata": {
  "kernelspec": {
   "display_name": "Python 3",
   "language": "python",
   "name": "python3"
  },
  "language_info": {
   "codemirror_mode": {
    "name": "ipython",
    "version": 3
   },
   "file_extension": ".py",
   "mimetype": "text/x-python",
   "name": "python",
   "nbconvert_exporter": "python",
   "pygments_lexer": "ipython3",
   "version": "3.7.3"
  }
 },
 "nbformat": 4,
 "nbformat_minor": 2
}
