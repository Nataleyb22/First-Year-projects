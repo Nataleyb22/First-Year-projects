{
 "cells": [
  {
   "cell_type": "markdown",
   "metadata": {},
   "source": [
    "# Analyzing our Planet Earth data\n",
    "\n",
    "Let's use Python to input and analyze the data we collected in the Hall of Planet Earth.\n",
    "\n",
    "**Reminder: To run the code in a Jupyter Notebook cell, click inside the cell and press \"shift\" and \"return\" on your keyboard at the same time.**"
   ]
  },
  {
   "cell_type": "markdown",
   "metadata": {},
   "source": [
    "## Working with numerical earth science data"
   ]
  },
  {
   "cell_type": "markdown",
   "metadata": {},
   "source": [
    "Assign the percent of each ore that contains the mineral to each variable below:"
   ]
  },
  {
   "cell_type": "code",
   "execution_count": 2,
   "metadata": {},
   "outputs": [],
   "source": [
    "# Hint: You do not need to include the % sign .\n",
    "chromium = 25\n",
    "vanadium = 2\n",
    "platinum = 0.0008\n",
    "\n",
    "\n"
   ]
  },
  {
   "cell_type": "markdown",
   "metadata": {},
   "source": [
    "Now print out each of these variables:"
   ]
  },
  {
   "cell_type": "code",
   "execution_count": 6,
   "metadata": {},
   "outputs": [
    {
     "name": "stdout",
     "output_type": "stream",
     "text": [
      "25\n",
      "2\n",
      "0.0008\n"
     ]
    }
   ],
   "source": [
    "print(chromium)\n",
    "print(vanadium)\n",
    "print(platinum)\n"
   ]
  },
  {
   "cell_type": "markdown",
   "metadata": {},
   "source": [
    "Next, assign the percent of vanadium ore that **does not** contain the mineral vanadium to a new variable and then print it out (try to use one of the variables you created above!):"
   ]
  },
  {
   "cell_type": "code",
   "execution_count": 10,
   "metadata": {},
   "outputs": [
    {
     "name": "stdout",
     "output_type": "stream",
     "text": [
      "98\n"
     ]
    }
   ],
   "source": [
    "# Hint: You will need to use subtraction\n",
    "without_V = 100 - vanadium\n",
    "print(without_V)"
   ]
  },
  {
   "cell_type": "markdown",
   "metadata": {},
   "source": [
    "Now convert the percent value you calculated above into a decimal and print the result:"
   ]
  },
  {
   "cell_type": "code",
   "execution_count": 11,
   "metadata": {},
   "outputs": [
    {
     "name": "stdout",
     "output_type": "stream",
     "text": [
      "0.98\n"
     ]
    }
   ],
   "source": [
    "# Hint: You will need to use division\n",
    "print(without_V / 100)\n"
   ]
  },
  {
   "cell_type": "markdown",
   "metadata": {},
   "source": [
    "Can you identify which of the values you worked with above are integers and which are floats?"
   ]
  },
  {
   "cell_type": "markdown",
   "metadata": {},
   "source": [
    "## Working with textual earth science data"
   ]
  },
  {
   "cell_type": "markdown",
   "metadata": {},
   "source": [
    "Assign the name of each type of lava you learned about to a variable below:"
   ]
  },
  {
   "cell_type": "code",
   "execution_count": 21,
   "metadata": {},
   "outputs": [],
   "source": [
    "# Hint: Remember that strings need to be in quotes!\n",
    "lava1 = \"AA lava\"\n",
    "lava2 = \"lava tree\"\n",
    "\n",
    "\n"
   ]
  },
  {
   "cell_type": "markdown",
   "metadata": {},
   "source": [
    "Now print out each of these variables:"
   ]
  },
  {
   "cell_type": "code",
   "execution_count": 22,
   "metadata": {},
   "outputs": [
    {
     "name": "stdout",
     "output_type": "stream",
     "text": [
      "AA lava\n",
      "lava tree\n"
     ]
    }
   ],
   "source": [
    "print(\"AA lava\")\n",
    "print(\"lava tree\")"
   ]
  },
  {
   "cell_type": "markdown",
   "metadata": {},
   "source": [
    "You can add strings together to make one long print statement, even if some of those strings are stored in variables. \n",
    "\n",
    "Assign your favorite object from the Hall of Planet Earth as a string to the variable called \"item\" below and then run the cell below to see how it works:"
   ]
  },
  {
   "cell_type": "code",
   "execution_count": 20,
   "metadata": {},
   "outputs": [
    {
     "name": "stdout",
     "output_type": "stream",
     "text": [
      "The igneous rock is one of the exhibited objects that helps us learn about planet Earth!\n"
     ]
    }
   ],
   "source": [
    "item = \"igneous rock\"\n",
    "print(\"The \" + item + \" is one of the exhibited objects that helps us learn about planet Earth!\")"
   ]
  },
  {
   "cell_type": "markdown",
   "metadata": {},
   "source": [
    "Now try printing out a sentence that tells the reader what the two types of lava are, using the two variables you created above:"
   ]
  },
  {
   "cell_type": "code",
   "execution_count": 28,
   "metadata": {},
   "outputs": [
    {
     "name": "stdout",
     "output_type": "stream",
     "text": [
      "The AA lava and lava tree are two types of lavas that can be found in volcanos\n"
     ]
    }
   ],
   "source": [
    "print(\"The\", lava1, \"and\", lava2,  \"are two types of lavas that can be found in volcanos\")"
   ]
  },
  {
   "cell_type": "markdown",
   "metadata": {},
   "source": [
    "## Mixing different types of earth science data"
   ]
  },
  {
   "cell_type": "markdown",
   "metadata": {},
   "source": [
    "Create a variable for each piece of data related to the deformed rocks from Wingdale, NY and decide whether the value should be a string, a float, or an integer:\n",
    "- Where the rock was found\n",
    "- Type of rock\n",
    "- Rock age\n",
    "- Temperature at which the rock formed\n",
    "- Depth at which the rock formed"
   ]
  },
  {
   "cell_type": "code",
   "execution_count": 32,
   "metadata": {},
   "outputs": [],
   "source": [
    "# Hint: do not include units for numbers in the value itself. \n",
    "# You can add that information to the variable name or as a comment\n",
    "Location = \"Wingdale, NY\"\n",
    "identity = \"schist\"\n",
    "age"
   ]
  },
  {
   "cell_type": "markdown",
   "metadata": {},
   "source": [
    "Print out a sentence that explains where the rocks were found and what kind of rock they are, using one or more of the variables you defined above:"
   ]
  },
  {
   "cell_type": "code",
   "execution_count": 33,
   "metadata": {},
   "outputs": [
    {
     "name": "stdout",
     "output_type": "stream",
     "text": [
      "The rocks can be found in  Wingdale, NY and they can be classified as schist\n"
     ]
    }
   ],
   "source": [
    "print(\"The rocks can be found in \", Location , \"and they can be classified as\", identity)"
   ]
  },
  {
   "cell_type": "markdown",
   "metadata": {},
   "source": [
    "Print out the difference between the deformed rock's temperature at formation and the boiling point of water (100 degrees Celsius), using one or more of the variables you defined above:"
   ]
  },
  {
   "cell_type": "code",
   "execution_count": 34,
   "metadata": {},
   "outputs": [
    {
     "name": "stdout",
     "output_type": "stream",
     "text": [
      "45\n"
     ]
    }
   ],
   "source": [
    "Formation_centigrade = 55\n",
    "Boil_celcius = 100\n",
    "print(Boil_celcius - Formation_centigrade)"
   ]
  },
  {
   "cell_type": "markdown",
   "metadata": {},
   "source": [
    "Create two new variables that contain the age (amount of time it has been moving) and length of the San Andreas Fault:"
   ]
  },
  {
   "cell_type": "code",
   "execution_count": 35,
   "metadata": {},
   "outputs": [],
   "source": [
    "old = 30000000\n",
    "length_km = 1200\n",
    "\n"
   ]
  },
  {
   "cell_type": "markdown",
   "metadata": {},
   "source": [
    "Print out the difference in age between the deformed rocks and the San Andreas Fault:"
   ]
  },
  {
   "cell_type": "code",
   "execution_count": null,
   "metadata": {},
   "outputs": [],
   "source": []
  },
  {
   "cell_type": "markdown",
   "metadata": {},
   "source": [
    "How much longer is the San Andreas Fault than the depth of the deformed rock's formation? Print out the difference:"
   ]
  },
  {
   "cell_type": "code",
   "execution_count": null,
   "metadata": {},
   "outputs": [],
   "source": []
  },
  {
   "cell_type": "markdown",
   "metadata": {},
   "source": [
    "## Bonus Challenge 1\n",
    "If you finish everything above, try this bonus challenge\n",
    "\n",
    "Create three new variables with information from your data collection sheet and experiment with adding, subtracting, and printing these variables:"
   ]
  },
  {
   "cell_type": "code",
   "execution_count": null,
   "metadata": {
    "collapsed": true
   },
   "outputs": [],
   "source": [
    "# Hint: Think about which data types can be added together"
   ]
  },
  {
   "cell_type": "markdown",
   "metadata": {},
   "source": [
    "## Bonus Challenge 2\n",
    "If you finish everything above, try this bonus challenge\n",
    "\n",
    "Run the two cells below to learn about functions that can change the data type of a value:"
   ]
  },
  {
   "cell_type": "code",
   "execution_count": null,
   "metadata": {},
   "outputs": [],
   "source": [
    "var1 = 5\n",
    "var2 = \"100\"\n",
    "var3 = 3.2\n",
    "\n",
    "print(type(var1))\n",
    "print(type(var2))\n",
    "print(type(var3))"
   ]
  },
  {
   "cell_type": "code",
   "execution_count": null,
   "metadata": {},
   "outputs": [],
   "source": [
    "#The type() function tells you the data type of a value\n",
    "var1_b = float(var1)\n",
    "print(var1_b)\n",
    "\n",
    "var2_b = int(var2)\n",
    "print(var2_b)\n",
    "\n",
    "var3_b = str(var3)\n",
    "print(var3_b)"
   ]
  },
  {
   "cell_type": "markdown",
   "metadata": {},
   "source": [
    "Print out the type of the three new variables (var1_b, var2_b, and var3_b) using the type( ) function:"
   ]
  },
  {
   "cell_type": "code",
   "execution_count": null,
   "metadata": {},
   "outputs": [],
   "source": []
  },
  {
   "cell_type": "markdown",
   "metadata": {},
   "source": [
    "Here's a summary of the functions you just used:\n",
    "- str() turns a value into a string\n",
    "- int() turns a value into an integer\n",
    "- float() turns a value into a float"
   ]
  },
  {
   "cell_type": "markdown",
   "metadata": {},
   "source": [
    "Not all values can be turned into all types. Try running the code below:"
   ]
  },
  {
   "cell_type": "code",
   "execution_count": null,
   "metadata": {},
   "outputs": [],
   "source": [
    "print(int(\"Rocks rock!\"))"
   ]
  },
  {
   "cell_type": "markdown",
   "metadata": {},
   "source": [
    "Now try it yourself! Create your own variables and try changing their types:"
   ]
  },
  {
   "cell_type": "code",
   "execution_count": null,
   "metadata": {
    "collapsed": true
   },
   "outputs": [],
   "source": []
  }
 ],
 "metadata": {
  "kernelspec": {
   "display_name": "Python 3",
   "language": "python",
   "name": "python3"
  },
  "language_info": {
   "codemirror_mode": {
    "name": "ipython",
    "version": 3
   },
   "file_extension": ".py",
   "mimetype": "text/x-python",
   "name": "python",
   "nbconvert_exporter": "python",
   "pygments_lexer": "ipython3",
   "version": "3.7.3"
  }
 },
 "nbformat": 4,
 "nbformat_minor": 2
}
