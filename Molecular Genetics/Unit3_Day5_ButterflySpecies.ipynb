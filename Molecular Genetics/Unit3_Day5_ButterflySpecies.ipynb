{
 "cells": [
  {
   "cell_type": "markdown",
   "metadata": {},
   "source": [
    "# Identifying Butterfly Species\n",
    "\n",
    "In this notebook you will get to use your transcription and translation code to analyze the optix gene from four butterflies and find out which pairs are the same species!"
   ]
  },
  {
   "cell_type": "markdown",
   "metadata": {},
   "source": [
    "## Pair Coding Time!\n",
    "### Step 1: Make sure you know who the typing partner and the guiding partner are.\n",
    "Open the DNA sequence files for the two butterflies that you picked. Read them in as strings, and assign them to variables:"
   ]
  },
  {
   "cell_type": "code",
   "execution_count": 4,
   "metadata": {},
   "outputs": [],
   "source": [
    "# You will need the open() function and the .read() method\n",
    "color_a = open(\"Butterfly_A_DNA.txt\").read()\n",
    "color_b = open(\"Butterfly_B_DNA.txt\").read()"
   ]
  },
  {
   "cell_type": "code",
   "execution_count": 5,
   "metadata": {},
   "outputs": [
    {
     "name": "stdout",
     "output_type": "stream",
     "text": [
      "GCCAAGGTCTCCAGGTCAGTACGCTTTGATGTTCGAAATACCGACCTCCGCGTGATAGTCCTCCGGCTCGCGGAGGCGCCGGCGGGAGAGCCAGGCCAGCTGTTTATAGCACACGCCTTCTTCAAGGGGGACGGCGCTTGTTAGACCCTGCCGCTCGTTTTCTGTGTGACAAAGTTTCTCTCCTGCTCCAGCGAGGACTCCCTTACCATGGACGTTCTAGGAATGGGCTTGGGCTGCTTCTTCGCCCTTAACCGGCGCCGCTGCCCAAACTGCGGATGCGTCCAGCCGTTAACCAAGTTCTTGGCCGCCGTCGCACTGTCTCGTCGGCGGCGGTTCTTGGCGAGGCGGCACGAGCCGGCTCCCAAGCGGAGGAGGAGGTGGATGCTGCTCCTGAGGCGGCTGAGCCTCTAGTTGCACCTGCTCCTC\n"
     ]
    }
   ],
   "source": [
    "print(color_a)"
   ]
  },
  {
   "cell_type": "code",
   "execution_count": 6,
   "metadata": {},
   "outputs": [
    {
     "name": "stdout",
     "output_type": "stream",
     "text": [
      "GCCAAGGTCTCCAGGTCAGTACGCTTTGATGTTCGGAACACCGACCTCCGCGTGATAGTCCTCCGGCTCGCGGAGGCGCCGGCGGGAGAGCCAGGCCAGCTGTTTATAGCACACGCCTTCTTCAAAGGGGACGGCGCTTGTTAGACCCTGCCGCTTGTTTTCTGTGTGACAAAGTTCCTCTCCTGCTCCAGCGAGGACTCCCTTACCATGGATGTTCTGGGAATGGGCTTGGGCTGCTTCTTCGCCCTTAACCGGCGCCGCTGCCCAGACTGCGGCTGCGTCCAGCCGTTGACCAAGTTTTTGGCCGCCGTCGCCCTGTCTCGTCGGCGGCGATTCTTGGCGAGGCGGCACGAGCCGGCTCCCAAGCGGAGGAGGAGGTGGATACTGCTCCTGAGGCGGCTGAGTCTCTAGTTGCACCTGCTCCTC\n"
     ]
    }
   ],
   "source": [
    "print(color_b)"
   ]
  },
  {
   "cell_type": "markdown",
   "metadata": {},
   "source": [
    "Next, transcribe these sequences into RNA and assign each RNA sequence to a variable."
   ]
  },
  {
   "cell_type": "code",
   "execution_count": 7,
   "metadata": {},
   "outputs": [
    {
     "name": "stdout",
     "output_type": "stream",
     "text": [
      "CGGUUCCAGAGGUCCAGUCAUGCGAAACUACAAGCUUUAUGGCUGGAGGCGCACUAUCAGGAGGCCGAGCGCCUCCGCGGCCGCCCUCUCGGUCCGGUCGACAAAUAUCGUGUGCGGAAGAAGUUCCCCCUGCCGCGAACAAUCUGGGACGGCGAGCAAAAGACACACUGUUUCAAAGAGAGGACGAGGUCGCUCCUGAGGGAAUGGUACCUGCAAGAUCCUUACCCGAACCCGACGAAGAAGCGGGAAUUGGCCGCGGCGACGGGUUUGACGCCUACGCAGGUCGGCAAUUGGUUCAAGAACCGGCGGCAGCGUGACAGAGCAGCCGCCGCCAAGAACCGCUCCGCCGUGCUCGGCCGAGGGUUCGCCUCCUCCUCCACCUACGACGAGGACUCCGCCGACUCGGAGAUCAACGUGGACGAGGAG\n"
     ]
    }
   ],
   "source": [
    "# Hint: You can copy and paste your transcription code\n",
    "RNADict = {\"A\" : \"U\", \"C\" : \"G\", \"T\" : \"A\" , \"G\" : \"C\"}\n",
    "fly_a = \"\"\n",
    "for i in color_a :\n",
    "    fly_a+=(RNADict[i])\n",
    "print(fly_a)"
   ]
  },
  {
   "cell_type": "code",
   "execution_count": 8,
   "metadata": {},
   "outputs": [
    {
     "name": "stdout",
     "output_type": "stream",
     "text": [
      "CGGUUCCAGAGGUCCAGUCAUGCGAAACUACAAGCCUUGUGGCUGGAGGCGCACUAUCAGGAGGCCGAGCGCCUCCGCGGCCGCCCUCUCGGUCCGGUCGACAAAUAUCGUGUGCGGAAGAAGUUUCCCCUGCCGCGAACAAUCUGGGACGGCGAACAAAAGACACACUGUUUCAAGGAGAGGACGAGGUCGCUCCUGAGGGAAUGGUACCUACAAGACCCUUACCCGAACCCGACGAAGAAGCGGGAAUUGGCCGCGGCGACGGGUCUGACGCCGACGCAGGUCGGCAACUGGUUCAAAAACCGGCGGCAGCGGGACAGAGCAGCCGCCGCUAAGAACCGCUCCGCCGUGCUCGGCCGAGGGUUCGCCUCCUCCUCCACCUAUGACGAGGACUCCGCCGACUCAGAGAUCAACGUGGACGAGGAG\n"
     ]
    }
   ],
   "source": [
    "RNADict = {\"A\" : \"U\", \"C\" : \"G\", \"T\" : \"A\" , \"G\" : \"C\"}\n",
    "fly_b = \"\"\n",
    "for i in color_b :\n",
    "    fly_b+=(RNADict[i])\n",
    "print(fly_b)"
   ]
  },
  {
   "cell_type": "markdown",
   "metadata": {},
   "source": [
    "Now find the amino acid sequence for each butterfly and store it in a variable:"
   ]
  },
  {
   "cell_type": "code",
   "execution_count": 9,
   "metadata": {},
   "outputs": [],
   "source": [
    "# Hint: You will need to use your translation code\n",
    "Proteindict = {\"UUU\":\"F\",\"UUC\":\"F\",\"UUA\":\"L\",\"UUG\":\"L\", \"CUU\":\"L\",\"CUC\":\"L\", \n",
    "             \"CUA\":\"L\",\"CUG\":\"L\",\"AUU\":\"I\",\"AUC\":\"I\",\"AUA\":\"I\",\"AUG\":\"M\",\n",
    "             \"GUU\":\"V\",\"GUC\":\"V\",\"GUA\":\"V\",\"GUG\":\"V\",\"UCU\":\"S\",\"UCC\":\"S\",\n",
    "             \"UCA\":\"S\",\"UCG\":\"S\",\"CCU\":\"P\",\"CCC\":\"P\",\"CCA\":\"P\",\"CCG\":\"P\",\n",
    "             \"ACU\":\"T\",\"ACC\":\"T\",\"ACA\":\"T\",\"ACG\":\"T\",\"GCU\":\"A\",\"GCC\":\"A\",\n",
    "             \"GCA\":\"A\",\"GCG\":\"A\",\"UAU\":\"Y\",\"UAC\":\"Y\",\"UAA\":\"STOP\",\"UAG\":\"STOP\",\n",
    "             \"UGA\":\"STOP\",\"CAU\":\"H\",\"CAC\":\"H\",\"CAA\":\"Q\",\"CAG\":\"Q\",\"AAU\":\"N\",\n",
    "             \"AAC\":\"N\",\"AAA\":\"K\",\"AAG\":\"K\",\"GAU\":\"D\",\"GAC\":\"D\",\"GAA\":\"E\",\n",
    "             \"GAG\":\"E\",\"UGU\":\"C\",\"UGC\":\"C\",\"UGG\":\"W\",\"CGU\":\"R\",\"CGC\":\"R\",\n",
    "             \"CGA\":\"R\",\"CGG\":\"R\",\"AGU\":\"S\",\"AGC\":\"S\",\"AGA\":\"R\",\"AGG\":\"R\",\n",
    "             \"GGU\":\"G\",\"GGC\":\"G\",\"GGA\":\"G\",\"GGG\":\"G\"}"
   ]
  },
  {
   "cell_type": "markdown",
   "metadata": {},
   "source": [
    "Print out your protein sequences to make sure your code worked:"
   ]
  },
  {
   "cell_type": "code",
   "execution_count": 10,
   "metadata": {},
   "outputs": [
    {
     "name": "stdout",
     "output_type": "stream",
     "text": [
      "RFQRSSHAKLQALWLEAHYQEAERLRGRPLGPVDKYRVRKKFPLPRTIWDGEQKTHCFKERTRSLLREWYLQDPYPNPTKKRELAAATGLTPTQVGNWFKNRRQRDRAAAAKNRSAVLGRGFASSSTYDEDSADSEINVDE\n"
     ]
    }
   ],
   "source": [
    "Proteina = \"\"\n",
    "Codon = \"\"\n",
    "\n",
    "for i in fly_a:\n",
    "    if len(Codon) == 3:\n",
    "        Proteina += Proteindict[Codon]\n",
    "        Codon = \"\"\n",
    "        Codon += i\n",
    "    else:\n",
    "        Codon+= i\n",
    "print(Proteina)\n",
    "\n"
   ]
  },
  {
   "cell_type": "code",
   "execution_count": 11,
   "metadata": {},
   "outputs": [
    {
     "name": "stdout",
     "output_type": "stream",
     "text": [
      "RFQRSSHAKLQALWLEAHYQEAERLRGRPLGPVDKYRVRKKFPLPRTIWDGEQKTHCFKERTRSLLREWYLQDPYPNPTKKRELAAATGLTPTQVGNWFKNRRQRDRAAAAKNRSAVLGRGFASSSTYDEDSADSEINVDE\n"
     ]
    }
   ],
   "source": [
    "Proteinb = \"\"\n",
    "Codon = \"\"\n",
    "\n",
    "for i in fly_b:\n",
    "    if len(Codon) == 3:\n",
    "        Proteinb += Proteindict[Codon]\n",
    "        Codon = \"\"\n",
    "        Codon += i\n",
    "    else:\n",
    "        Codon+= i\n",
    "print(Proteinb)\n",
    "\n"
   ]
  },
  {
   "cell_type": "markdown",
   "metadata": {},
   "source": [
    "### Step 2: Swap typing partner and the guiding partners!\n",
    "How can we find out how many differences there are between each pair of protein sequences? \n",
    "Write code that compares your two sequences and prints out the number of differences:"
   ]
  },
  {
   "cell_type": "code",
   "execution_count": 12,
   "metadata": {},
   "outputs": [
    {
     "name": "stdout",
     "output_type": "stream",
     "text": [
      "0\n"
     ]
    }
   ],
   "source": [
    "# Hint, you will need the enumerate() function. You can use this in \"for loops\" that loop through strings or lists.\n",
    "# Remember, you must specify two variables in your \"for loop\": one for the index counter and one for the characteam\n",
    "diffnum = 0\n",
    "\n",
    "for i, aminoacid in enumerate(Proteina):\n",
    "    if Proteinb[i] != aminoacid:\n",
    "        diffnum += 1\n",
    "print(diffnum)"
   ]
  },
  {
   "cell_type": "markdown",
   "metadata": {},
   "source": [
    "If you got 0 differences, that's correct! But don't be too hasty in assuming that these butterflies are from the same species. Let's check the DNA sequences to be sure.\n",
    "\n",
    "### Step 4: Swap typing partner and the guiding partners!\n",
    "\n",
    "Try modifying your code to compare the DNA sequences instead of the protein sequences:"
   ]
  },
  {
   "cell_type": "code",
   "execution_count": 13,
   "metadata": {},
   "outputs": [
    {
     "name": "stdout",
     "output_type": "stream",
     "text": [
      "15\n"
     ]
    }
   ],
   "source": [
    "# You can copy and paste code from above and then modify it\n",
    "diffnum = 0\n",
    "\n",
    "for i, aminoacid in enumerate(color_a):\n",
    "    if color_b[i] != aminoacid:\n",
    "        diffnum += 1\n",
    "print(diffnum)"
   ]
  },
  {
   "cell_type": "markdown",
   "metadata": {},
   "source": [
    "Compare with other teams to see which two butterflies are from the same species."
   ]
  },
  {
   "cell_type": "markdown",
   "metadata": {},
   "source": [
    "## Exploring SNPs\n",
    "### Step 5: Swap typing partner and the guiding partners!\n",
    "These DNA differences are actually known variations between species. Called \"single nucleotide polymorphisms\" or SNPs, they can be used to identify a particular species. \n",
    "\n",
    "Using the two dictionaries below, write code that looks at position 213 to find out whether the butterflies you're looking at are melpomene or erato:\n",
    "\n",
    "Hint: DNA basepairs count from 1 and python counts from 0"
   ]
  },
  {
   "cell_type": "code",
   "execution_count": null,
   "metadata": {},
   "outputs": [],
   "source": [
    "# melpomene and erato are two Heliconius butterfly species\n",
    "# These dictionaries have the DNA basepair # as the key and the chemical base as the value\n",
    "\n",
    "melpomene = {36:\"A\", 156:\"C\", 177:\"T\", 213:\"C\", 276:\"A\", 291:\"A\", 315:\"A\", 333:\"G\", 405:\"C\"}\n",
    "erato = {36:\"G\", 156:\"T\", 177:\"C\", 213:\"T\", 276:\"C\", 291:\"G\", 315:\"C\", 333:\"A\", 405:\"T\"}"
   ]
  },
  {
   "cell_type": "code",
   "execution_count": 17,
   "metadata": {},
   "outputs": [
    {
     "ename": "NameError",
     "evalue": "name 'DNAseqA' is not defined",
     "output_type": "error",
     "traceback": [
      "\u001b[0;31m---------------------------------------------------------------------------\u001b[0m",
      "\u001b[0;31mNameError\u001b[0m                                 Traceback (most recent call last)",
      "\u001b[0;32m<ipython-input-17-85a5eb63a3f2>\u001b[0m in \u001b[0;36m<module>\u001b[0;34m\u001b[0m\n\u001b[0;32m----> 1\u001b[0;31m \u001b[0;32mif\u001b[0m \u001b[0mDNAseqA\u001b[0m \u001b[0;34m==\u001b[0m\u001b[0mmelpomene\u001b[0m\u001b[0;34m[\u001b[0m\u001b[0;36m213\u001b[0m\u001b[0;34m]\u001b[0m\u001b[0;34m:\u001b[0m\u001b[0;34m\u001b[0m\u001b[0;34m\u001b[0m\u001b[0m\n\u001b[0m\u001b[1;32m      2\u001b[0m     \u001b[0mprint\u001b[0m\u001b[0;34m(\u001b[0m\u001b[0;34m\"Butterfly A is melpomene\"\u001b[0m\u001b[0;34m)\u001b[0m\u001b[0;34m\u001b[0m\u001b[0;34m\u001b[0m\u001b[0m\n\u001b[1;32m      3\u001b[0m \u001b[0;32melif\u001b[0m \u001b[0mDNAseqA\u001b[0m\u001b[0;34m[\u001b[0m\u001b[0;36m212\u001b[0m\u001b[0;34m]\u001b[0m\u001b[0;34m==\u001b[0m \u001b[0merato\u001b[0m\u001b[0;34m[\u001b[0m\u001b[0;36m213\u001b[0m\u001b[0;34m]\u001b[0m \u001b[0;34m:\u001b[0m\u001b[0;34m\u001b[0m\u001b[0;34m\u001b[0m\u001b[0m\n\u001b[1;32m      4\u001b[0m     \u001b[0mprint\u001b[0m\u001b[0;34m(\u001b[0m\u001b[0;34m\"Butterfly A\"\u001b[0m\u001b[0;34m)\u001b[0m\u001b[0;34m\u001b[0m\u001b[0;34m\u001b[0m\u001b[0m\n",
      "\u001b[0;31mNameError\u001b[0m: name 'DNAseqA' is not defined"
     ]
    }
   ],
   "source": [
    "if DNAseqA ==melpomene[213]:\n",
    "    print(\"Butterfly A is melpomene\")\n",
    "elif DNAseqA[212]== erato[213] :\n",
    "    print(\"Butterfly A\")"
   ]
  },
  {
   "cell_type": "code",
   "execution_count": 19,
   "metadata": {},
   "outputs": [
    {
     "ename": "NameError",
     "evalue": "name 'melpomene' is not defined",
     "output_type": "error",
     "traceback": [
      "\u001b[0;31m---------------------------------------------------------------------------\u001b[0m",
      "\u001b[0;31mNameError\u001b[0m                                 Traceback (most recent call last)",
      "\u001b[0;32m<ipython-input-19-9a36a2ac4593>\u001b[0m in \u001b[0;36m<module>\u001b[0;34m\u001b[0m\n\u001b[0;32m----> 1\u001b[0;31m \u001b[0;32mif\u001b[0m \u001b[0mcolor_a\u001b[0m\u001b[0;34m[\u001b[0m\u001b[0;36m213\u001b[0m\u001b[0;34m]\u001b[0m \u001b[0;34m==\u001b[0m \u001b[0mmelpomene\u001b[0m\u001b[0;34m[\u001b[0m\u001b[0;36m213\u001b[0m\u001b[0;34m]\u001b[0m\u001b[0;34m:\u001b[0m\u001b[0;34m\u001b[0m\u001b[0;34m\u001b[0m\u001b[0m\n\u001b[0m\u001b[1;32m      2\u001b[0m     \u001b[0mprint\u001b[0m\u001b[0;34m(\u001b[0m\u001b[0;34m\"Butterfly A is melpomene.\"\u001b[0m\u001b[0;34m)\u001b[0m\u001b[0;34m\u001b[0m\u001b[0;34m\u001b[0m\u001b[0m\n\u001b[1;32m      3\u001b[0m \u001b[0;32melif\u001b[0m \u001b[0mcolor_a\u001b[0m\u001b[0;34m[\u001b[0m\u001b[0;36m213\u001b[0m\u001b[0;34m]\u001b[0m \u001b[0;34m==\u001b[0m \u001b[0merato\u001b[0m\u001b[0;34m[\u001b[0m\u001b[0;36m213\u001b[0m\u001b[0;34m]\u001b[0m\u001b[0;34m:\u001b[0m\u001b[0;34m\u001b[0m\u001b[0;34m\u001b[0m\u001b[0m\n\u001b[1;32m      4\u001b[0m     \u001b[0mprint\u001b[0m\u001b[0;34m(\u001b[0m\u001b[0;34m\"Butterfly A is erato.\"\u001b[0m\u001b[0;34m)\u001b[0m\u001b[0;34m\u001b[0m\u001b[0;34m\u001b[0m\u001b[0m\n\u001b[1;32m      5\u001b[0m \u001b[0;32melse\u001b[0m\u001b[0;34m:\u001b[0m\u001b[0;34m\u001b[0m\u001b[0;34m\u001b[0m\u001b[0m\n",
      "\u001b[0;31mNameError\u001b[0m: name 'melpomene' is not defined"
     ]
    }
   ],
   "source": [
    "\n",
    "if color_a[213] == melpomene[213]:\n",
    "    print(\"Butterfly A is melpomene.\")\n",
    "elif color_a[213] == erato[213]:\n",
    "    print(\"Butterfly A is erato.\")\n",
    "else:\n",
    "    print(\"Butterfly A is unknown.\")\n",
    "    \n",
    "if color_b[213] == melpomene[213]:\n",
    "    print(\"Butterfly B is melpomene.\")\n",
    "elif color_b[212] == erato[213]:\n",
    "    print(\"Butterfly B is erato.\")\n",
    "else:\n",
    "    print(\"Butterfly B is unknown.\")"
   ]
  },
  {
   "cell_type": "code",
   "execution_count": null,
   "metadata": {},
   "outputs": [],
   "source": []
  },
  {
   "cell_type": "markdown",
   "metadata": {},
   "source": [
    "Try changing the code to look at a different basepair position:"
   ]
  },
  {
   "cell_type": "code",
   "execution_count": null,
   "metadata": {},
   "outputs": [],
   "source": []
  }
 ],
 "metadata": {
  "kernelspec": {
   "display_name": "Python 3",
   "language": "python",
   "name": "python3"
  },
  "language_info": {
   "codemirror_mode": {
    "name": "ipython",
    "version": 3
   },
   "file_extension": ".py",
   "mimetype": "text/x-python",
   "name": "python",
   "nbconvert_exporter": "python",
   "pygments_lexer": "ipython3",
   "version": "3.7.3"
  }
 },
 "nbformat": 4,
 "nbformat_minor": 2
}
