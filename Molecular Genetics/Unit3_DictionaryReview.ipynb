{
 "cells": [
  {
   "cell_type": "markdown",
   "metadata": {},
   "source": [
    "# Dictionaries review\n",
    "\n",
    "These exercises will help you review the new data type of dictionaries. Try to complete these on your own first before looking at a cheat sheet."
   ]
  },
  {
   "cell_type": "markdown",
   "metadata": {},
   "source": [
    "### 1. Creating a dictionary\n",
    "\n",
    "Here is a sample sequence of DNA:\n",
    "ACCCTGTAGCAGA\n",
    "\n",
    "Create a dictionary that contains each nucleotide as the key and the number of those nucleotides in the sequence as the value (you can just count by hand):"
   ]
  },
  {
   "cell_type": "code",
   "execution_count": null,
   "metadata": {},
   "outputs": [],
   "source": []
  },
  {
   "cell_type": "markdown",
   "metadata": {},
   "source": [
    "Print out the value associated with the key \"G\":"
   ]
  },
  {
   "cell_type": "code",
   "execution_count": null,
   "metadata": {},
   "outputs": [],
   "source": []
  },
  {
   "cell_type": "markdown",
   "metadata": {},
   "source": [
    "### 2. Adding keys and values\n",
    "\n",
    "Add a key/value pair to your dictionary for the number of \"U\"s in the DNA sequence above:"
   ]
  },
  {
   "cell_type": "code",
   "execution_count": null,
   "metadata": {},
   "outputs": [],
   "source": []
  },
  {
   "cell_type": "markdown",
   "metadata": {},
   "source": [
    "Print out your dictionary:"
   ]
  },
  {
   "cell_type": "code",
   "execution_count": null,
   "metadata": {},
   "outputs": [],
   "source": []
  },
  {
   "cell_type": "markdown",
   "metadata": {},
   "source": [
    "### 3. Conditionals and dictionaries\n",
    "\n",
    "Write a conditional that checks whether there are more \"A\"s or \"T\"s in your sequence and prints out:\n",
    "- \"There are more As\" or \"There are more Ts\"\n",
    "- The difference (ie. how many more As or Ts there are)"
   ]
  },
  {
   "cell_type": "code",
   "execution_count": null,
   "metadata": {},
   "outputs": [],
   "source": []
  },
  {
   "cell_type": "markdown",
   "metadata": {},
   "source": [
    "### 3. Loops and dictionaries\n",
    "\n",
    "Loop through all the keys in your dictionary and print out its value:"
   ]
  },
  {
   "cell_type": "code",
   "execution_count": null,
   "metadata": {},
   "outputs": [],
   "source": []
  },
  {
   "cell_type": "markdown",
   "metadata": {},
   "source": [
    "Now write a loop that only prints out the value if there are more than 0 nucleotides of that type in your sequence:"
   ]
  },
  {
   "cell_type": "code",
   "execution_count": null,
   "metadata": {},
   "outputs": [],
   "source": []
  },
  {
   "cell_type": "markdown",
   "metadata": {},
   "source": [
    "### 4. Fix the bugs!\n",
    "\n",
    "Fix the errors in the code below:"
   ]
  },
  {
   "cell_type": "code",
   "execution_count": null,
   "metadata": {},
   "outputs": [],
   "source": [
    "# Create a dictionary\n",
    "\n",
    "BodyParts = (\"eyes\":2, \"ears\":2, \"noses\":1, \"fingers\":10)"
   ]
  },
  {
   "cell_type": "code",
   "execution_count": null,
   "metadata": {},
   "outputs": [],
   "source": [
    "# Print out the value associated with the first key\n",
    "\n",
    "print(BodyParts[0])"
   ]
  },
  {
   "cell_type": "code",
   "execution_count": null,
   "metadata": {},
   "outputs": [],
   "source": [
    "# Add a new key/value pair to the dictionary\n",
    "\n",
    "BodyParts[\"toes\":10]"
   ]
  },
  {
   "cell_type": "code",
   "execution_count": null,
   "metadata": {},
   "outputs": [],
   "source": [
    "# Loop through the dictionary and print out each value + 5\n",
    "\n",
    "for i in BodyParts:\n",
    "    print(i+5)"
   ]
  }
 ],
 "metadata": {
  "kernelspec": {
   "display_name": "Python 3",
   "language": "python",
   "name": "python3"
  },
  "language_info": {
   "codemirror_mode": {
    "name": "ipython",
    "version": 3
   },
   "file_extension": ".py",
   "mimetype": "text/x-python",
   "name": "python",
   "nbconvert_exporter": "python",
   "pygments_lexer": "ipython3",
   "version": "3.7.4"
  }
 },
 "nbformat": 4,
 "nbformat_minor": 2
}
