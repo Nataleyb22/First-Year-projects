{
 "cells": [
  {
   "cell_type": "markdown",
   "metadata": {},
   "source": [
    "# U3D7 - Review\n",
    "\n",
    "## Syntax - Lists vs. Dictionaries\n"
   ]
  },
  {
   "cell_type": "markdown",
   "metadata": {},
   "source": [
    "You are given a dictionary of types of point mutations, but their values are mismatched:"
   ]
  },
  {
   "cell_type": "code",
   "execution_count": 1,
   "metadata": {},
   "outputs": [],
   "source": [
    "mutationsDict = {\"silent\": \"results in a stop codon\", \n",
    "                 \"nonsense\": \"results in a different codon, but the same protein\", \n",
    "                 \"missense conservative\": \"results in an amino acid with very different structures/properties\", \n",
    "                 \"missense non-conservative\": \"results in an amino acid with very similar structures/properties\"}"
   ]
  },
  {
   "cell_type": "markdown",
   "metadata": {},
   "source": [
    "You are also given a list of definitions for different types of point mutations. "
   ]
  },
  {
   "cell_type": "code",
   "execution_count": 7,
   "metadata": {},
   "outputs": [],
   "source": [
    "definitions = [\"results in a stop codon\", \n",
    "               \"results in a different codon, but the same protein\", \n",
    "               \"results in an amino acid with very different structures/properties\", \n",
    "               \"results in an amino acid with very similar structures/properties\"]"
   ]
  },
  {
   "cell_type": "markdown",
   "metadata": {},
   "source": [
    "USING THE LIST, write code that correctly matches the mutations in the dictionary with their correct definitions. Then, print the revised dictionary."
   ]
  },
  {
   "cell_type": "code",
   "execution_count": 9,
   "metadata": {},
   "outputs": [
    {
     "name": "stdout",
     "output_type": "stream",
     "text": [
      "{'silent': 'results in a different codon, but the same protein', 'nonsense': 'results in a stop codon', 'missense conservative': 'results in an amino acid with very similar structures/properties', 'missense non-conservative': 'results in an amino acid with very different structures/properties'}\n"
     ]
    }
   ],
   "source": [
    "mutationsDict[\"silent\"] = definitions[1]\n",
    "mutationsDict[\"nonsense\"] = definitions[0]\n",
    "mutationsDict[\"missense conservative\"] = definitions[3]\n",
    "mutationsDict[\"missense non-conservative\"] = definitions[2]\n",
    "\n",
    "print(mutationsDict)"
   ]
  },
  {
   "cell_type": "code",
   "execution_count": null,
   "metadata": {},
   "outputs": [],
   "source": []
  }
 ],
 "metadata": {
  "kernelspec": {
   "display_name": "Python 3",
   "language": "python",
   "name": "python3"
  },
  "language_info": {
   "codemirror_mode": {
    "name": "ipython",
    "version": 3
   },
   "file_extension": ".py",
   "mimetype": "text/x-python",
   "name": "python",
   "nbconvert_exporter": "python",
   "pygments_lexer": "ipython3",
   "version": "3.7.3"
  }
 },
 "nbformat": 4,
 "nbformat_minor": 2
}
