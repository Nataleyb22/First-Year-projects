{
 "cells": [
  {
   "cell_type": "markdown",
   "metadata": {},
   "source": [
    "# Transcribe and translate genetic information with Python!\n",
    "\n",
    "In this notebook you will learn how to write code that takes a DNA sequence and outputs the corresponding RNA sequence (transcription) and code that takes an RNA sequence and outputs the corresponding peptide sequence (translation)."
   ]
  },
  {
   "cell_type": "markdown",
   "metadata": {},
   "source": [
    "### *Pair programming: Make sure the typing partner is typing and the guiding partner is guiding on the same computer!*"
   ]
  },
  {
   "cell_type": "markdown",
   "metadata": {},
   "source": [
    "In the \"Central Dogma\" game you only transcribed and translated the first 10 codons of each protein. For this coding exercise you will use the entire DNA sequences (400-1,000 base pairs!). \n",
    "<br>\n",
    "<br>\n",
    "The sequences are saved as text files so you will need to create a variable for each gene and use the open() function to assign each sequence to a variable. "
   ]
  },
  {
   "cell_type": "code",
   "execution_count": 1,
   "metadata": {},
   "outputs": [],
   "source": [
    "# Create a variable for each gene and read that file into the variable as a string\n",
    "# You will need the open() function and the .read() method\n",
    "\n",
    "HisDNA = open(\"Histamine_receptor_DNA.txt\").read()\n",
    "\n",
    "# Now open and read the sequence files for keratin and collagen:\n",
    "KerDNA = open(\"Keratin_DNA.txt\").read()\n",
    "\n",
    "ColDNA = open(\"Collagen_DNA.txt\").read()"
   ]
  },
  {
   "cell_type": "markdown",
   "metadata": {},
   "source": [
    "Print out the data stored in the HisDNA variable:"
   ]
  },
  {
   "cell_type": "code",
   "execution_count": 2,
   "metadata": {},
   "outputs": [
    {
     "name": "stdout",
     "output_type": "stream",
     "text": [
      "TACCGTGGGTTACCGTGTCGGAGAAGGAAAACGGACCTGAGATGGCGTACGTTCTAGTGGTAGTGGCACCAGGAACGCCAGGAGTAGGAGTAGTGGCAACGACCGTTACACCAGCAGACAGACCGGCACCCGAACTTGGCGGCCGAGGCGTTGGACTGGTTAACAAAGTAGCACAGGAACCGATAGTGACTGGACGAGGAGCCGGAGGACCACGACGGGAAGAGACGGTAGATGGTCGACAGGACGTTCACCTCGAAACCGTTCCAGAAGACGTTATAGATGTGGTCGGACCTACACTACGAGACGTGTCGGAGGTAAGAATTGGAGAAGTACTAGTCGGAGCTGGCCATGACGCGACAGTACCTGGGTGACGCCATGGGACACGACCAGTGGGGTCAAGCCCAGCGGTAGAGAGACCAGAATTAAACCCAGTAGAGGTAATGGGACAGGAAAGACAGATAGGTGGACCCCACCTTGTCGTCCTTGCTCTGGTCGTTCCCGTTAGTATGGTGGAGATTCACGTTTCAGGTCCAGTTACTTCACATGCCCGACCACCTACCCGACCAGTGGAAGATGGAGGGCGATGACTAGTACACGTAGTGGATGATGGCGTAGAAGTTCCAGCGGGCCCTAGTCCGGTTCTCCTAGTTAGTGTAATCGAGGACCTTCCGTCGGTGGTAGTCCCTCGTGTTTCGGTGTCACTGTGACCGGCGGCAGTACCCCCGGAAGTAGTAGACGACCAAAGGGATGAAGTGGCGCAAACACATGGCACCCGACTCTCCCCTACTACGGTAGTTACTCCACAATCTTCGGTAGCAAGACACCGACCCGATACGGTTGAGTCGGGACTTGGGGTAGGACATACGACGCGACTTGTCTCTGAAGGCGTGGCCCATGGTTGTCGAGAAGACGACGTCCGACCGGTTGGCGTTGAGGGTGTTTTGAAGAGACTCCAGGTTGCGGAGAGTCGACAGGTCCTGGGTTTCGGCTCTTGGGTCCGTTGTCCTTCTCTTTGGGGACTTCGAGGTCCACACCTCACCCTGTCTTCAGTGCCGGGGGGTCCCTCGGTGTCTGTCCATT\n"
     ]
    }
   ],
   "source": [
    "print(HisDNA)"
   ]
  },
  {
   "cell_type": "markdown",
   "metadata": {},
   "source": [
    "Print out the datatype of this variable:"
   ]
  },
  {
   "cell_type": "code",
   "execution_count": 3,
   "metadata": {},
   "outputs": [
    {
     "name": "stdout",
     "output_type": "stream",
     "text": [
      "<class 'str'>\n"
     ]
    }
   ],
   "source": [
    "print(type(HisDNA))"
   ]
  },
  {
   "cell_type": "markdown",
   "metadata": {},
   "source": [
    "Now that we've assigned our sequences to variables, we can get started on the code to transcribe that DNA sequence into an RNA sequence. \n",
    "\n",
    "**Store the histamine receptor RNA sequence in its own variable and print it out to check your results**\n",
    "\n",
    "Remember, A -> U, T -> A, G -> C, and C -> G"
   ]
  },
  {
   "cell_type": "code",
   "execution_count": 4,
   "metadata": {},
   "outputs": [
    {
     "name": "stdout",
     "output_type": "stream",
     "text": [
      "AUGGCACCCAAUGGCACAGCCUCUUCCUUUUGCCUGGACUCUACCGCAUGCAAGAUCACCAUCACCGUGGUCCUUGCGGUCCUCAUCCUCAUCACCGUUGCUGGCAAUGUGGUCGUCUGUCUGGCCGUGGGCUUGAACCGCCGGCUCCGCAACCUGACCAAUUGUUUCAUCGUGUCCUUGGCUAUCACUGACCUGCUCCUCGGCCUCCUGGUGCUGCCCUUCUCUGCCAUCUACCAGCUGUCCUGCAAGUGGAGCUUUGGCAAGGUCUUCUGCAAUAUCUACACCAGCCUGGAUGUGAUGCUCUGCACAGCCUCCAUUCUUAACCUCUUCAUGAUCAGCCUCGACCGGUACUGCGCUGUCAUGGACCCACUGCGGUACCCUGUGCUGGUCACCCCAGUUCGGGUCGCCAUCUCUCUGGUCUUAAUUUGGGUCAUCUCCAUUACCCUGUCCUUUCUGUCUAUCCACCUGGGGUGGAACAGCAGGAACGAGACCAGCAAGGGCAAUCAUACCACCUCUAAGUGCAAAGUCCAGGUCAAUGAAGUGUACGGGCUGGUGGAUGGGCUGGUCACCUUCUACCUCCCGCUACUGAUCAUGUGCAUCACCUACUACCGCAUCUUCAAGGUCGCCCGGGAUCAGGCCAAGAGGAUCAAUCACAUUAGCUCCUGGAAGGCAGCCACCAUCAGGGAGCACAAAGCCACAGUGACACUGGCCGCCGUCAUGGGGGCCUUCAUCAUCUGCUGGUUUCCCUACUUCACCGCGUUUGUGUACCGUGGGCUGAGAGGGGAUGAUGCCAUCAAUGAGGUGUUAGAAGCCAUCGUUCUGUGGCUGGGCUAUGCCAACUCAGCCCUGAACCCCAUCCUGUAUGCUGCGCUGAACAGAGACUUCCGCACCGGGUACCAACAGCUCUUCUGCUGCAGGCUGGCCAACCGCAACUCCCACAAAACUUCUCUGAGGUCCAACGCCUCUCAGCUGUCCAGGACCCAAAGCCGAGAACCCAGGCAACAGGAAGAGAAACCCCUGAAGCUCCAGGUGUGGAGUGGGACAGAAGUCACGGCCCCCCAGGGAGCCACAGACAGGUAA\n"
     ]
    }
   ],
   "source": [
    "# Hint: You will need a \"for loop\" and conditionals. \n",
    "# You will also need an empty string\n",
    "\n",
    "#Solution 1 (no dictionary):\n",
    "\n",
    "RNA = \"\" #Created an empty string to begin storing stuff in.\n",
    "\n",
    "for base in HisDNA:\n",
    "    if base == \"C\":\n",
    "        RNA += \"G\"\n",
    "    elif base == \"G\":\n",
    "        RNA += \"C\"\n",
    "    elif base == \"A\":\n",
    "        RNA += \"U\"\n",
    "    elif base == \"T\":\n",
    "        RNA += \"A\"\n",
    "\n",
    "print(RNA)"
   ]
  },
  {
   "cell_type": "code",
   "execution_count": 5,
   "metadata": {},
   "outputs": [
    {
     "name": "stdout",
     "output_type": "stream",
     "text": [
      "AUGGCACCCAAUGGCACAGCCUCUUCCUUUUGCCUGGACUCUACCGCAUGCAAGAUCACCAUCACCGUGGUCCUUGCGGUCCUCAUCCUCAUCACCGUUGCUGGCAAUGUGGUCGUCUGUCUGGCCGUGGGCUUGAACCGCCGGCUCCGCAACCUGACCAAUUGUUUCAUCGUGUCCUUGGCUAUCACUGACCUGCUCCUCGGCCUCCUGGUGCUGCCCUUCUCUGCCAUCUACCAGCUGUCCUGCAAGUGGAGCUUUGGCAAGGUCUUCUGCAAUAUCUACACCAGCCUGGAUGUGAUGCUCUGCACAGCCUCCAUUCUUAACCUCUUCAUGAUCAGCCUCGACCGGUACUGCGCUGUCAUGGACCCACUGCGGUACCCUGUGCUGGUCACCCCAGUUCGGGUCGCCAUCUCUCUGGUCUUAAUUUGGGUCAUCUCCAUUACCCUGUCCUUUCUGUCUAUCCACCUGGGGUGGAACAGCAGGAACGAGACCAGCAAGGGCAAUCAUACCACCUCUAAGUGCAAAGUCCAGGUCAAUGAAGUGUACGGGCUGGUGGAUGGGCUGGUCACCUUCUACCUCCCGCUACUGAUCAUGUGCAUCACCUACUACCGCAUCUUCAAGGUCGCCCGGGAUCAGGCCAAGAGGAUCAAUCACAUUAGCUCCUGGAAGGCAGCCACCAUCAGGGAGCACAAAGCCACAGUGACACUGGCCGCCGUCAUGGGGGCCUUCAUCAUCUGCUGGUUUCCCUACUUCACCGCGUUUGUGUACCGUGGGCUGAGAGGGGAUGAUGCCAUCAAUGAGGUGUUAGAAGCCAUCGUUCUGUGGCUGGGCUAUGCCAACUCAGCCCUGAACCCCAUCCUGUAUGCUGCGCUGAACAGAGACUUCCGCACCGGGUACCAACAGCUCUUCUGCUGCAGGCUGGCCAACCGCAACUCCCACAAAACUUCUCUGAGGUCCAACGCCUCUCAGCUGUCCAGGACCCAAAGCCGAGAACCCAGGCAACAGGAAGAGAAACCCCUGAAGCUCCAGGUGUGGAGUGGGACAGAAGUCACGGCCCCCCAGGGAGCCACAGACAGGUAA\n"
     ]
    }
   ],
   "source": [
    "#Solution 2 (with dictionary):\n",
    "trDict = {\"A\":\"U\", \"T\":\"A\", \"G\":\"C\", \"C\":\"G\"}\n",
    "RNA = \"\"\n",
    "\n",
    "for i in HisDNA:\n",
    "    RNA += trDict[i]\n",
    "\n",
    "print(RNA)"
   ]
  },
  {
   "cell_type": "markdown",
   "metadata": {},
   "source": [
    "### *Pair programming swap: Typing partner becomes the guiding partner and vice versa*"
   ]
  },
  {
   "cell_type": "markdown",
   "metadata": {},
   "source": [
    "Congratulations! You've transcribed DNA sequences and created mRNA. Now it's time to translate that message and find the amino acid sequence of the protein.\n",
    "<br>\n",
    "<br>\n",
    "Here's a chart to help you out:"
   ]
  },
  {
   "cell_type": "markdown",
   "metadata": {},
   "source": [
    "<img src=\"https://archive.manylabs.org/file/lessonMedia/69/geneticCode.png\" width=\"500px\" height=\"500px\" align=\"left\" />"
   ]
  },
  {
   "cell_type": "markdown",
   "metadata": {},
   "source": [
    "**Goal:** You need to write code that takes an RNA sequence and returns the correct amino acid sequence. (Use the one letter code for amino acids (ex. L for Leucine). Stop codons can be represented as \"STOP\")\n",
    "\n",
    "**You may find it helpful to write some pseudocode to help you solve this challenge**\n",
    "\n",
    "Here are some hints:\n",
    "- you will need a dictionary, a for loop, and a conditional"
   ]
  },
  {
   "cell_type": "markdown",
   "metadata": {},
   "source": [
    "Create your dictionary first:"
   ]
  },
  {
   "cell_type": "code",
   "execution_count": 6,
   "metadata": {},
   "outputs": [],
   "source": [
    "codonDict = {\"UUU\":\"F\",\"UUC\":\"F\",\"UUA\":\"L\",\"UUG\":\"L\", \"CUU\":\"L\",\"CUC\":\"L\", \n",
    "             \"CUA\":\"L\",\"CUG\":\"L\",\"AUU\":\"I\",\"AUC\":\"I\",\"AUA\":\"I\",\"AUG\":\"M\",\n",
    "             \"GUU\":\"V\",\"GUC\":\"V\",\"GUA\":\"V\",\"GUG\":\"V\",\"UCU\":\"S\",\"UCC\":\"S\",\n",
    "             \"UCA\":\"S\",\"UCG\":\"S\",\"CCU\":\"P\",\"CCC\":\"P\",\"CCA\":\"P\",\"CCG\":\"P\",\n",
    "             \"ACU\":\"T\",\"ACC\":\"T\",\"ACA\":\"T\",\"ACG\":\"T\",\"GCU\":\"A\",\"GCC\":\"A\",\n",
    "             \"GCA\":\"A\",\"GCG\":\"A\",\"UAU\":\"Y\",\"UAC\":\"Y\",\"UAA\":\"STOP\",\"UAG\":\"STOP\",\n",
    "             \"UGA\":\"STOP\",\"CAU\":\"H\",\"CAC\":\"H\",\"CAA\":\"Q\",\"CAG\":\"Q\",\"AAU\":\"N\",\n",
    "             \"AAC\":\"N\",\"AAA\":\"K\",\"AAG\":\"K\",\"GAU\":\"D\",\"GAC\":\"D\",\"GAA\":\"E\",\n",
    "             \"GAG\":\"E\",\"UGU\":\"C\",\"UGC\":\"C\",\"UGG\":\"W\",\"CGU\":\"R\",\"CGC\":\"R\",\n",
    "             \"CGA\":\"R\",\"CGG\":\"R\",\"AGU\":\"S\",\"AGC\":\"S\",\"AGA\":\"R\",\"AGG\":\"R\",\n",
    "             \"GGU\":\"G\",\"GGC\":\"G\",\"GGA\":\"G\",\"GGG\":\"G\"}"
   ]
  },
  {
   "cell_type": "markdown",
   "metadata": {},
   "source": [
    "Now write the rest of your code:"
   ]
  },
  {
   "cell_type": "code",
   "execution_count": 7,
   "metadata": {},
   "outputs": [
    {
     "name": "stdout",
     "output_type": "stream",
     "text": [
      "MAPNGTASSFCLDSTACKITITVVLAVLILITVAGNVVVCLAVGLNRRLRNLTNCFIVSLAITDLLLGLLVLPFSAIYQLSCKWSFGKVFCNIYTSLDVMLCTASILNLFMISLDRYCAVMDPLRYPVLVTPVRVAISLVLIWVISITLSFLSIHLGWNSRNETSKGNHTTSKCKVQVNEVYGLVDGLVTFYLPLLIMCITYYRIFKVARDQAKRINHISSWKAATIREHKATVTLAAVMGAFIICWFPYFTAFVYRGLRGDDAINEVLEAIVLWLGYANSALNPILYAALNRDFRTGYQQLFCCRLANRNSHKTSLRSNASQLSRTQSREPRQQEEKPLKLQVWSGTEVTAPQGATDR\n"
     ]
    }
   ],
   "source": [
    "protein = \"\"\n",
    "codon = \"\"\n",
    "\n",
    "for i in RNA:\n",
    "    if len(codon) == 3:\n",
    "        protein += codonDict[codon]\n",
    "        codon = \"\"\n",
    "        codon += i\n",
    "    else:\n",
    "        codon += i\n",
    "\n",
    "print(protein)"
   ]
  },
  {
   "cell_type": "code",
   "execution_count": 0,
   "metadata": {},
   "outputs": [],
   "source": []
  },
  {
   "cell_type": "code",
   "execution_count": 0,
   "metadata": {},
   "outputs": [],
   "source": []
  }
 ],
 "metadata": {
  "kernelspec": {
   "display_name": "Python 3",
   "language": "python",
   "name": "python3"
  },
  "language_info": {
   "codemirror_mode": {
    "name": "ipython",
    "version": 3
   },
   "file_extension": ".py",
   "mimetype": "text/x-python",
   "name": "python",
   "nbconvert_exporter": "python",
   "pygments_lexer": "ipython3",
   "version": "3.7.3"
  }
 },
 "nbformat": 4,
 "nbformat_minor": 1
}
