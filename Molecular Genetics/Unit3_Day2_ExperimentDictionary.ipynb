{
 "cells": [
  {
   "cell_type": "markdown",
   "metadata": {},
   "source": [
    "# Making a Lab Material Dictionary\n",
    "\n",
    "Dictionaries are a convenient way of storing data in Python.  A dictionary in Python is like a dictionary in the real world.  \n",
    "\n",
    "In the real world, a dictionary consists of **words** and their **definitions**. In Python, a dictionary consists of **keys** and their **values**.\n",
    "\n",
    "In this Jupyter notebook you will use this new data type to organize all the materials from our strawberry DNA extraction lab."
   ]
  },
  {
   "cell_type": "markdown",
   "metadata": {},
   "source": [
    "### Use this cell for the live code session:"
   ]
  },
  {
   "cell_type": "code",
   "execution_count": 7,
   "metadata": {},
   "outputs": [
    {
     "name": "stdout",
     "output_type": "stream",
     "text": [
      "recipe book\n",
      "Nucleotides\n"
     ]
    }
   ],
   "source": [
    "#py_dictionary ={\"keyl:\"vall\", \"key2:val2\"} \n",
    "#petdict = {\"name\":\"Nola\",\"age\":8, \"species\":\"cat\"}\n",
    "#my_dict[key]=value\n",
    "#Print(pet_dict[\"name\"])\n",
    "analogyDict = {\"DNA\":\"recipe book\", \"RNA\": \"recipe\", \"protein\" : \"food\"}\n",
    "print(analogyDict[\"DNA\"])\n",
    "\n",
    "subunitDict = {\"DNA\" : \"nucleotides\", \"RNA\": \"Nucleotides\", \"Proteins\":\"Amino acids\"}\n",
    "print(subunitDict[\"RNA\"])"
   ]
  },
  {
   "cell_type": "markdown",
   "metadata": {},
   "source": [
    "### Run the following cells to learn more about dictionaries:"
   ]
  },
  {
   "cell_type": "code",
   "execution_count": 8,
   "metadata": {},
   "outputs": [],
   "source": [
    "# We will create a new dictionary\n",
    "switchDict = {0:\"off\", 1:\"on\"} # Notice that you can use integers as keys and strings as values if you want\n"
   ]
  },
  {
   "cell_type": "code",
   "execution_count": 9,
   "metadata": {},
   "outputs": [
    {
     "name": "stdout",
     "output_type": "stream",
     "text": [
      "off\n"
     ]
    }
   ],
   "source": [
    "# print out the value for the 0 key\n",
    "print(switchDict[0])"
   ]
  },
  {
   "cell_type": "code",
   "execution_count": 11,
   "metadata": {},
   "outputs": [
    {
     "name": "stdout",
     "output_type": "stream",
     "text": [
      "{'dozen': 12, \"baker's dozen\": 13, 'score': 20, 'one gross': 144}\n"
     ]
    }
   ],
   "source": [
    "# Here's another dictionary\n",
    "countDict = {\"dozen\":12, \"baker's dozen\": 13, \"score\":20, \"one gross\":144}\n",
    "print(countDict)"
   ]
  },
  {
   "cell_type": "code",
   "execution_count": 12,
   "metadata": {},
   "outputs": [
    {
     "name": "stdout",
     "output_type": "stream",
     "text": [
      "20\n"
     ]
    }
   ],
   "source": [
    "# Let's print out the value for the \"Score\" key:\n",
    "print(countDict[\"score\"])"
   ]
  },
  {
   "cell_type": "markdown",
   "metadata": {},
   "source": [
    "You can add a new key/value pair to a dictionary:"
   ]
  },
  {
   "cell_type": "code",
   "execution_count": 13,
   "metadata": {},
   "outputs": [
    {
     "name": "stdout",
     "output_type": "stream",
     "text": [
      "{'dozen': 12, \"baker's dozen\": 13, 'score': 20, 'one gross': 144, 'half dozen': 6}\n"
     ]
    }
   ],
   "source": [
    "countDict[\"half dozen\"] = 6\n",
    "print(countDict)"
   ]
  },
  {
   "cell_type": "markdown",
   "metadata": {},
   "source": [
    "You can also delete a key/value pair from a dictionary:"
   ]
  },
  {
   "cell_type": "code",
   "execution_count": 14,
   "metadata": {},
   "outputs": [
    {
     "name": "stdout",
     "output_type": "stream",
     "text": [
      "{\"baker's dozen\": 13, 'score': 20, 'one gross': 144, 'half dozen': 6}\n"
     ]
    }
   ],
   "source": [
    "del countDict[\"dozen\"]\n",
    "print(countDict)"
   ]
  },
  {
   "cell_type": "markdown",
   "metadata": {},
   "source": [
    "You can use dictionaries with other commands like conditionals:"
   ]
  },
  {
   "cell_type": "code",
   "execution_count": 15,
   "metadata": {},
   "outputs": [
    {
     "name": "stdout",
     "output_type": "stream",
     "text": [
      "A score is greater than 19\n"
     ]
    }
   ],
   "source": [
    "if countDict[\"score\"] > 19:\n",
    "    print(\"A score is greater than 19\")"
   ]
  },
  {
   "cell_type": "markdown",
   "metadata": {},
   "source": [
    "### Making the lab material dictionary\n",
    "Create a dictionary with a key for the first three materials on the list (strawberries - dish soap). The values should be the reason we use that material:\n",
    "\n",
    "**Note: to make it easier to use your dictionary, keep all words lower case**"
   ]
  },
  {
   "cell_type": "code",
   "execution_count": 16,
   "metadata": {},
   "outputs": [],
   "source": [
    "materialsDict= {\"Strawberry\" : \"source of DNA\", \"water\" : \"basis of extraction liquid\", \"dish soap\" : \"breaks the cell open\"}"
   ]
  },
  {
   "cell_type": "markdown",
   "metadata": {},
   "source": [
    "Print out the use of dish soap using your dictionary:"
   ]
  },
  {
   "cell_type": "code",
   "execution_count": 17,
   "metadata": {},
   "outputs": [
    {
     "name": "stdout",
     "output_type": "stream",
     "text": [
      "breaks the cell open\n"
     ]
    }
   ],
   "source": [
    "print(materialsDict[\"dish soap\"])"
   ]
  },
  {
   "cell_type": "markdown",
   "metadata": {},
   "source": [
    "Add the next three lab materials to your dictionary:"
   ]
  },
  {
   "cell_type": "code",
   "execution_count": 22,
   "metadata": {},
   "outputs": [],
   "source": [
    "materialsDict[\"meat tenderizer\"] = \"enzyme which cuts up protein\"\n",
    "materialsDict[\"salt\"]= \"seperates DNA\"\n",
    "materialsDict[\"rubbing alcohol\"] = \"removes DNA\""
   ]
  },
  {
   "cell_type": "markdown",
   "metadata": {},
   "source": [
    "print out your dictionary to check that you've added the new materials correctly:"
   ]
  },
  {
   "cell_type": "code",
   "execution_count": 23,
   "metadata": {},
   "outputs": [
    {
     "name": "stdout",
     "output_type": "stream",
     "text": [
      "{'Strawberry': 'source of DNA', 'water': 'basis of extraction liquid', 'dish soap': 'breaks the cell open', 'meat tenderizer': 'enzyme which cuts up protein', 'salt': 'seperates DNA', 'rubbing alcohol': 'removes DNA'}\n"
     ]
    }
   ],
   "source": [
    "print(materialsDict)"
   ]
  },
  {
   "cell_type": "markdown",
   "metadata": {},
   "source": [
    "Now write a \"for loop\" that loops through the following list and prints out \"x item is needed for the experiment\" if that item is in your dictionary and then prints out the use of that item.\n",
    "\n",
    "Example:\n",
    "<br>\n",
    "water is needed for the experiment:\n",
    "basis of extraction liquid"
   ]
  },
  {
   "cell_type": "code",
   "execution_count": 24,
   "metadata": {},
   "outputs": [],
   "source": [
    "items = [\"apples\", \"water\", \"lemon juice\", \"vinegar\", \"salt\", \"dish soap\"]"
   ]
  },
  {
   "cell_type": "code",
   "execution_count": 28,
   "metadata": {},
   "outputs": [
    {
     "name": "stdout",
     "output_type": "stream",
     "text": [
      "water is needed for the experiment: basis of extraction liquid\n",
      "basis of extraction liquid\n",
      "salt is needed for the experiment: seperates DNA\n",
      "seperates DNA\n",
      "dish soap is needed for the experiment: breaks the cell open\n",
      "breaks the cell open\n"
     ]
    }
   ],
   "source": [
    "# Hint: you can use \"if x in my_dictionary\" to check if something is in a dictionary\n",
    "for i in items:\n",
    "    if i in materialsDict:\n",
    "        print(i + \" is needed for the experiment: \" + materialsDict[i])\n",
    "        print(materialsDict[i])"
   ]
  },
  {
   "cell_type": "code",
   "execution_count": null,
   "metadata": {},
   "outputs": [],
   "source": []
  }
 ],
 "metadata": {
  "kernelspec": {
   "display_name": "Python 3",
   "language": "python",
   "name": "python3"
  },
  "language_info": {
   "codemirror_mode": {
    "name": "ipython",
    "version": 3
   },
   "file_extension": ".py",
   "mimetype": "text/x-python",
   "name": "python",
   "nbconvert_exporter": "python",
   "pygments_lexer": "ipython3",
   "version": "3.7.3"
  }
 },
 "nbformat": 4,
 "nbformat_minor": 2
}
