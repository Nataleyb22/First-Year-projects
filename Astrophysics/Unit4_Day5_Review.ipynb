{
 "cells": [
  {
   "cell_type": "markdown",
   "metadata": {},
   "source": [
    "# Practice with Parallax and Trigonometry"
   ]
  },
  {
   "cell_type": "markdown",
   "metadata": {},
   "source": [
    "** Recall from last class that even if we know just 1 angle and 1 side of a right triangle, we are able to find any other part of that triangle by using trigonometric functions: sine, cosine, and tangent.\n",
    "\n",
    "\n",
    "In our last class, the class average of planetarium heights was 30 meters, so we will stick to that number.\n",
    "I decided to use another clinometer to measure the height of the planetarium, and the reading on the clinometer was 70 degrees.\n",
    "Write a program that tells us how far away I was from the planetarium. "
   ]
  },
  {
   "cell_type": "code",
   "execution_count": 4,
   "metadata": {},
   "outputs": [],
   "source": [
    "clinometerReading = 70 \n",
    "planetariumHeight = 30 #What does this value represent in terms of a right triangle: opposite/adjacent/hypotenuse?\n",
    "\n"
   ]
  },
  {
   "cell_type": "markdown",
   "metadata": {},
   "source": [
    "What package will we be using for this type of problem?"
   ]
  },
  {
   "cell_type": "code",
   "execution_count": 5,
   "metadata": {},
   "outputs": [],
   "source": [
    "import numpy as np"
   ]
  },
  {
   "cell_type": "markdown",
   "metadata": {},
   "source": [
    "What units is our clinometer reading in? What do we need to convert them to?"
   ]
  },
  {
   "cell_type": "code",
   "execution_count": 6,
   "metadata": {},
   "outputs": [
    {
     "name": "stdout",
     "output_type": "stream",
     "text": [
      "1.2217304763960306\n"
     ]
    }
   ],
   "source": [
    "yes = np.deg2rad(clinometerReading)\n",
    "print(yes)"
   ]
  },
  {
   "cell_type": "markdown",
   "metadata": {},
   "source": [
    "How do we manipulate our knowledge of trigonometry to find the distance?"
   ]
  },
  {
   "cell_type": "code",
   "execution_count": 8,
   "metadata": {},
   "outputs": [],
   "source": [
    "x = (planetariumHeight/np.tan(yes))"
   ]
  },
  {
   "cell_type": "markdown",
   "metadata": {},
   "source": [
    "Print out a sentence that says \"Carol was X meters away from the Hayden Planetarium.\" using the variable you just created:"
   ]
  },
  {
   "cell_type": "code",
   "execution_count": 9,
   "metadata": {},
   "outputs": [
    {
     "name": "stdout",
     "output_type": "stream",
     "text": [
      "Carol was 10.919107027986074meters away from the Hayden Planetarium\n"
     ]
    }
   ],
   "source": [
    "print(\"Carol was \" + str(x) + \"meters away from the Hayden Planetarium\")"
   ]
  },
  {
   "cell_type": "code",
   "execution_count": null,
   "metadata": {},
   "outputs": [],
   "source": []
  }
 ],
 "metadata": {
  "kernelspec": {
   "display_name": "Python 3",
   "language": "python",
   "name": "python3"
  },
  "language_info": {
   "codemirror_mode": {
    "name": "ipython",
    "version": 3
   },
   "file_extension": ".py",
   "mimetype": "text/x-python",
   "name": "python",
   "nbconvert_exporter": "python",
   "pygments_lexer": "ipython3",
   "version": "3.7.3"
  }
 },
 "nbformat": 4,
 "nbformat_minor": 2
}
