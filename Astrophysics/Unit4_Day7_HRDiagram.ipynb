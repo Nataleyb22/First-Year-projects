{
 "cells": [
  {
   "cell_type": "markdown",
   "metadata": {},
   "source": [
    "# Making an HR Diagram\n",
    "\n",
    "In this Notebook, we'll use pandas and matplotlib to create a Hertzsprung–Russell (HR) diagram with the information we collected about stars.\n",
    "\n",
    "### This is a pair coding exercise! You will switch off being the typing partner and the guiding partner."
   ]
  },
  {
   "cell_type": "markdown",
   "metadata": {},
   "source": [
    "First, import pandas and matplotlib.pyplot"
   ]
  },
  {
   "cell_type": "code",
   "execution_count": 10,
   "metadata": {},
   "outputs": [],
   "source": [
    "import pandas as pd\n",
    "import matplotlib.pyplot as plt"
   ]
  },
  {
   "cell_type": "markdown",
   "metadata": {},
   "source": [
    "Next, run the following cell to import another matplotlib library and modify the way Jupyter displays graphs:"
   ]
  },
  {
   "cell_type": "code",
   "execution_count": 11,
   "metadata": {},
   "outputs": [],
   "source": [
    "import matplotlib.colors as mpl # We'll use the matplotlib.colors library to color our data points\n",
    "%matplotlib inline \n",
    "# This command changes the matplotlib viewer that Jupyter notebook uses and allows us to make fancier graphs"
   ]
  },
  {
   "cell_type": "markdown",
   "metadata": {},
   "source": [
    "Now, open the \"class_star_data.csv\" file:"
   ]
  },
  {
   "cell_type": "code",
   "execution_count": 12,
   "metadata": {},
   "outputs": [],
   "source": [
    "df = pd.read_csv(\"class_star_data.csv\")"
   ]
  },
  {
   "cell_type": "markdown",
   "metadata": {},
   "source": [
    "Look at the first five rows of the dataframe:"
   ]
  },
  {
   "cell_type": "code",
   "execution_count": 13,
   "metadata": {},
   "outputs": [
    {
     "data": {
      "text/html": [
       "<div>\n",
       "<style scoped>\n",
       "    .dataframe tbody tr th:only-of-type {\n",
       "        vertical-align: middle;\n",
       "    }\n",
       "\n",
       "    .dataframe tbody tr th {\n",
       "        vertical-align: top;\n",
       "    }\n",
       "\n",
       "    .dataframe thead th {\n",
       "        text-align: right;\n",
       "    }\n",
       "</style>\n",
       "<table border=\"1\" class=\"dataframe\">\n",
       "  <thead>\n",
       "    <tr style=\"text-align: right;\">\n",
       "      <th></th>\n",
       "      <th>star ID</th>\n",
       "      <th>Brightness (suns)</th>\n",
       "      <th>Temperature (K)</th>\n",
       "    </tr>\n",
       "  </thead>\n",
       "  <tbody>\n",
       "    <tr>\n",
       "      <th>0</th>\n",
       "      <td>1</td>\n",
       "      <td>132.0</td>\n",
       "      <td>22000.0</td>\n",
       "    </tr>\n",
       "    <tr>\n",
       "      <th>1</th>\n",
       "      <td>2</td>\n",
       "      <td>9000.0</td>\n",
       "      <td>3000.0</td>\n",
       "    </tr>\n",
       "    <tr>\n",
       "      <th>2</th>\n",
       "      <td>3</td>\n",
       "      <td>0.5</td>\n",
       "      <td>5200.0</td>\n",
       "    </tr>\n",
       "    <tr>\n",
       "      <th>3</th>\n",
       "      <td>4</td>\n",
       "      <td>70.0</td>\n",
       "      <td>15000.0</td>\n",
       "    </tr>\n",
       "    <tr>\n",
       "      <th>4</th>\n",
       "      <td>5</td>\n",
       "      <td>60000.0</td>\n",
       "      <td>6000.0</td>\n",
       "    </tr>\n",
       "  </tbody>\n",
       "</table>\n",
       "</div>"
      ],
      "text/plain": [
       "   star ID  Brightness (suns)  Temperature (K)\n",
       "0        1              132.0          22000.0\n",
       "1        2             9000.0           3000.0\n",
       "2        3                0.5           5200.0\n",
       "3        4               70.0          15000.0\n",
       "4        5            60000.0           6000.0"
      ]
     },
     "execution_count": 13,
     "metadata": {},
     "output_type": "execute_result"
    }
   ],
   "source": [
    "df.head()"
   ]
  },
  {
   "cell_type": "markdown",
   "metadata": {},
   "source": [
    "How many stars are in our dataset?"
   ]
  },
  {
   "cell_type": "code",
   "execution_count": 14,
   "metadata": {},
   "outputs": [
    {
     "name": "stdout",
     "output_type": "stream",
     "text": [
      "96\n"
     ]
    }
   ],
   "source": [
    "print(len(df))"
   ]
  },
  {
   "cell_type": "markdown",
   "metadata": {},
   "source": [
    "### Let's explore the data a bit.\n",
    "### Swap typing partner and guiding partner!\n",
    "\n",
    "Store the \"Brightness (suns)\" column and the \"Temperature (K)\" columns in variables."
   ]
  },
  {
   "cell_type": "code",
   "execution_count": 19,
   "metadata": {},
   "outputs": [
    {
     "name": "stdout",
     "output_type": "stream",
     "text": [
      "0       132.00000\n",
      "1      9000.00000\n",
      "2         0.50000\n",
      "3        70.00000\n",
      "4     60000.00000\n",
      "5       310.00000\n",
      "6        25.00000\n",
      "7         8.00000\n",
      "8     10000.00000\n",
      "9         3.00000\n",
      "10       19.00000\n",
      "11       23.00000\n",
      "12        0.01000\n",
      "13        0.01000\n",
      "14        0.02000\n",
      "15        0.04000\n",
      "16        0.01000\n",
      "17        0.06000\n",
      "18        0.02000\n",
      "19        0.08000\n",
      "20        0.04000\n",
      "21        0.07000\n",
      "22        0.09000\n",
      "23        0.09000\n",
      "24        1.00000\n",
      "25    10000.00000\n",
      "26      480.00000\n",
      "27      480.00000\n",
      "28      480.00000\n",
      "29        0.00005\n",
      "         ...     \n",
      "66       88.00000\n",
      "67       80.00000\n",
      "68        0.70000\n",
      "69       28.00000\n",
      "70        1.90000\n",
      "71        2.30000\n",
      "72        3.00000\n",
      "73        0.03000\n",
      "74        0.00400\n",
      "75        0.00100\n",
      "76        0.00008\n",
      "77        0.00060\n",
      "78        2.00000\n",
      "79        0.00007\n",
      "80        0.00004\n",
      "81        1.60000\n",
      "82        0.00060\n",
      "83        0.00001\n",
      "84      300.00000\n",
      "85        1.00000\n",
      "86        1.70000\n",
      "87        0.00020\n",
      "88      120.00000\n",
      "89      320.00000\n",
      "90        1.20000\n",
      "91       81.00000\n",
      "92      101.00000\n",
      "93        0.80000\n",
      "94        0.09000\n",
      "95       90.00000\n",
      "Name: Brightness (suns), Length: 96, dtype: float64\n",
      "0     22000.00000\n",
      "1      3000.00000\n",
      "2      5200.00000\n",
      "3     15000.00000\n",
      "4      6000.00000\n",
      "5      3100.00000\n",
      "6     14000.00000\n",
      "7      8600.00000\n",
      "8      7300.00000\n",
      "9      8300.00000\n",
      "10     9800.00000\n",
      "11     9800.00000\n",
      "12     3900.00000\n",
      "13     3900.00000\n",
      "14     4100.00000\n",
      "15     4300.00000\n",
      "16     3500.00000\n",
      "17     4200.00000\n",
      "18     3900.00000\n",
      "19     3600.00000\n",
      "20     3800.00000\n",
      "21     4100.00000\n",
      "22     4200.00000\n",
      "23     4200.00000\n",
      "24     4800.00000\n",
      "25    40000.00000\n",
      "26    20000.00000\n",
      "27     3200.00000\n",
      "28     3000.00000\n",
      "29     2900.00000\n",
      "         ...     \n",
      "66    10400.00000\n",
      "67     9600.00000\n",
      "68     5000.00000\n",
      "69     9700.00000\n",
      "70     5800.00000\n",
      "71     5800.00000\n",
      "72     5900.00000\n",
      "73     3600.00000\n",
      "74     3500.00000\n",
      "75    11100.00000\n",
      "76     3100.00000\n",
      "77     3200.00000\n",
      "78        0.00007\n",
      "79     3000.00000\n",
      "80     3000.00000\n",
      "81     6200.00000\n",
      "82     3000.00000\n",
      "83     2900.00000\n",
      "84     6000.00000\n",
      "85     5900.00000\n",
      "86     6100.00000\n",
      "87    10200.00000\n",
      "88    35000.00000\n",
      "89     3200.00000\n",
      "90     5900.00000\n",
      "91    26000.00000\n",
      "92    38000.00000\n",
      "93     5900.00000\n",
      "94     4100.00000\n",
      "95    22000.00000\n",
      "Name: Temperature (K), Length: 96, dtype: float64\n"
     ]
    }
   ],
   "source": [
    "bright = df[\"Brightness (suns)\"]\n",
    "print(bright)\n",
    "temp = df[\"Temperature (K)\"]\n",
    "print(temp)"
   ]
  },
  {
   "cell_type": "markdown",
   "metadata": {},
   "source": [
    "Print out the mean brightness and temperature."
   ]
  },
  {
   "cell_type": "code",
   "execution_count": 21,
   "metadata": {},
   "outputs": [
    {
     "name": "stdout",
     "output_type": "stream",
     "text": [
      "965.2636905208336\n",
      "7238.541667395834\n"
     ]
    }
   ],
   "source": [
    "print(df[\"Brightness (suns)\"].mean())\n",
    "print(df[\"Temperature (K)\"].mean())"
   ]
  },
  {
   "cell_type": "markdown",
   "metadata": {},
   "source": [
    "How do these values compare to the brightness and temperature of the sun?\n",
    "\n",
    "Print out the brightness and temperature of the sun. \n",
    "\n",
    "Hint: Use an index! The sun's star ID is 25, making its dataframe index 24. "
   ]
  },
  {
   "cell_type": "code",
   "execution_count": 27,
   "metadata": {},
   "outputs": [
    {
     "name": "stdout",
     "output_type": "stream",
     "text": [
      "1.0\n",
      "4800.0\n"
     ]
    }
   ],
   "source": [
    "print(bright[24])\n",
    "print(temp[24])"
   ]
  },
  {
   "cell_type": "markdown",
   "metadata": {},
   "source": [
    "### Now let's make an HR diagram!\n",
    "\n",
    "Run the code below and look at it together. See if you can explain what each line does. If you have any questions, jot them down and we'll discuss them as a class."
   ]
  },
  {
   "cell_type": "code",
   "execution_count": 30,
   "metadata": {},
   "outputs": [
    {
     "data": {
      "image/png": "[encoded data removed]",
      "text/plain": [
       "<Figure size 432x288 with 1 Axes>"
      ]
     },
     "metadata": {
      "needs_background": "light"
     },
     "output_type": "display_data"
    }
   ],
   "source": [
    "cm = plt.cm.get_cmap(\"RdYlBu\")# This is the colormap we'll use for our data points. Note: _r reverses the colormap\n",
    "plt.scatter(temp, bright, c=bright, s=35, cmap=cm, norm=mpl.LogNorm()) # This plots all our points as a scatterplot\n",
    "plt.scatter(temp[24], bright[24], c='magenta', s=200, marker='*') # This plots the sun's data as a separate point with a star marker\n",
    "plt.yscale('log')\n",
    "plt.ylim([0.000001, 1000000])\n",
    "plt.xlabel('Temperature (K)')\n",
    "plt.ylabel('Brightness (Suns)')\n",
    "plt.title('HR Diagram')\n",
    "plt.gca().invert_xaxis() # This inverts the x axis so that the hottest stars are on the left.\n",
    "plt.show()"
   ]
  },
  {
   "cell_type": "code",
   "execution_count": null,
   "metadata": {},
   "outputs": [],
   "source": []
  }
 ],
 "metadata": {
  "kernelspec": {
   "display_name": "Python 3",
   "language": "python",
   "name": "python3"
  },
  "language_info": {
   "codemirror_mode": {
    "name": "ipython",
    "version": 3
   },
   "file_extension": ".py",
   "mimetype": "text/x-python",
   "name": "python",
   "nbconvert_exporter": "python",
   "pygments_lexer": "ipython3",
   "version": "3.7.3"
  }
 },
 "nbformat": 4,
 "nbformat_minor": 2
}
