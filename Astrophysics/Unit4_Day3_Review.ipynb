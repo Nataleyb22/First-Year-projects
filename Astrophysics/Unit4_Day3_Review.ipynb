{
 "cells": [
  {
   "cell_type": "markdown",
   "metadata": {},
   "source": [
    "## Light Review & Enumerate"
   ]
  },
  {
   "cell_type": "markdown",
   "metadata": {},
   "source": [
    "The following dictionary pairs colors of the visible light spectrum with their wavelength range:"
   ]
  },
  {
   "cell_type": "code",
   "execution_count": 10,
   "metadata": {},
   "outputs": [],
   "source": [
    "visibleLight = {\"red\":[635, 700], \"orange\":[590,635], \"yellow\":[560,590], \"green\":[520, 560], \"blue\": [450, 520], \"violet\":[400,450]}"
   ]
  },
  {
   "cell_type": "markdown",
   "metadata": {},
   "source": [
    "The following variable will be used to contain a wavelength of an unknown wave of light:"
   ]
  },
  {
   "cell_type": "code",
   "execution_count": 26,
   "metadata": {},
   "outputs": [],
   "source": [
    "wavelengthInput = 333\n",
    "#C represents the key\n",
    "#visibleLight[c]= represents the entire lists\n"
   ]
  },
  {
   "cell_type": "markdown",
   "metadata": {},
   "source": [
    "Using the enumerate function, write code that goes through the dictionary and states what color the wavelengthInput represents. Use the index to count how many colors are listed in the visibleLight dictionary and have the program state it."
   ]
  },
  {
   "cell_type": "code",
   "execution_count": 19,
   "metadata": {},
   "outputs": [
    {
     "name": "stdout",
     "output_type": "stream",
     "text": [
      "this input represents blue\n"
     ]
    }
   ],
   "source": [
    "for i,c in enumerate(visibleLight):\n",
    "    if wavelengthInput>=visibleLight[c][0] and wavelengthInput <=visibleLight[c][1]:\n",
    "        print(\"this input represents \" + c)"
   ]
  },
  {
   "cell_type": "markdown",
   "metadata": {},
   "source": [
    "Use your knowledge of the electromagnetic spectrum and wavelengths to write code that tells whether or not the wavelengthInput is visible light or not.\n"
   ]
  },
  {
   "cell_type": "code",
   "execution_count": 27,
   "metadata": {},
   "outputs": [
    {
     "name": "stdout",
     "output_type": "stream",
     "text": [
      "This is not visible light\n"
     ]
    }
   ],
   "source": [
    "if wavelengthInput>visibleLight[\"red\"][1] or wavelengthInput<visibleLight[\"violet\"][0]:\n",
    "    print(\"This is not visible light\")"
   ]
  },
  {
   "cell_type": "code",
   "execution_count": null,
   "metadata": {},
   "outputs": [],
   "source": []
  }
 ],
 "metadata": {
  "kernelspec": {
   "display_name": "Python 3",
   "language": "python",
   "name": "python3"
  },
  "language_info": {
   "codemirror_mode": {
    "name": "ipython",
    "version": 3
   },
   "file_extension": ".py",
   "mimetype": "text/x-python",
   "name": "python",
   "nbconvert_exporter": "python",
   "pygments_lexer": "ipython3",
   "version": "3.7.3"
  }
 },
 "nbformat": 4,
 "nbformat_minor": 2
}
