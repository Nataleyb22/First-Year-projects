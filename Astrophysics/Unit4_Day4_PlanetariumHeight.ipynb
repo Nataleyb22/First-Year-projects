{
 "cells": [
  {
   "cell_type": "markdown",
   "metadata": {},
   "source": [
    "# Clinometer activity Pt 1: Calculating the height of the planetarium\n",
    "\n",
    "Use this notebook to calculate the height of the Hayden Planetarium based on your measurements of distance and clinometer angle. "
   ]
  },
  {
   "cell_type": "markdown",
   "metadata": {},
   "source": [
    "We will use the numpy library for this activity. It includes lots of functions that make mathematical calculations easier. Import the library below:"
   ]
  },
  {
   "cell_type": "code",
   "execution_count": 1,
   "metadata": {},
   "outputs": [],
   "source": [
    "# Remember that numpy has the alias np\n",
    "import numpy as np"
   ]
  },
  {
   "cell_type": "markdown",
   "metadata": {},
   "source": [
    "Next, assign the clinometer angle you measured to a variable:"
   ]
  },
  {
   "cell_type": "code",
   "execution_count": 2,
   "metadata": {},
   "outputs": [],
   "source": [
    "# remember to think carefully about the datatype of your value\n",
    "Cmeter= 23 \n"
   ]
  },
  {
   "cell_type": "markdown",
   "metadata": {},
   "source": [
    "We can use the numpy function np.deg2rad() to convert our angle from degrees to radians, which we will need for our calculations later on. \n",
    "\n",
    "The np.deg2rad() function takes an angle in degrees as an argument and returns that angle in radians.\n",
    "\n",
    "Calculate your angle in radians and assign it to a new variable. Then print out the value:"
   ]
  },
  {
   "cell_type": "code",
   "execution_count": 3,
   "metadata": {},
   "outputs": [
    {
     "data": {
      "text/plain": [
       "0.4014257279586958"
      ]
     },
     "execution_count": 3,
     "metadata": {},
     "output_type": "execute_result"
    }
   ],
   "source": [
    "# Remember to use the variable you created above.\n",
    "np.deg2rad(Cmeter)"
   ]
  },
  {
   "cell_type": "markdown",
   "metadata": {},
   "source": [
    "#### Now it's time to find the height of the planetarium!\n",
    "\n",
    "First, fill in the distance from the observer to the planetarium base (adjacent side):"
   ]
  },
  {
   "cell_type": "code",
   "execution_count": 4,
   "metadata": {},
   "outputs": [],
   "source": [
    "# Assign the distance in meters to this variable\n",
    "distance =49.99"
   ]
  },
  {
   "cell_type": "markdown",
   "metadata": {},
   "source": [
    "Since we know theta and the length of the adjacent side of our triangle, we can use trigonometry to calculate the opposite side.\n",
    "\n",
    "Remember that tan(theta) = opposite/adjacent\n",
    "\n",
    "Use the numpy function np.tan() to calculate the length of \"opposite\" side of the triangle:"
   ]
  },
  {
   "cell_type": "code",
   "execution_count": 5,
   "metadata": {},
   "outputs": [
    {
     "name": "stdout",
     "output_type": "stream",
     "text": [
      "79.39177263872979\n"
     ]
    }
   ],
   "source": [
    "height = (np.tan(23)* distance)\n",
    "print(height)"
   ]
  },
  {
   "cell_type": "markdown",
   "metadata": {},
   "source": [
    "But there's something missing! You need to add your own height to the length of the opposite side to get the height of the planetarium. \n",
    "\n",
    "Add your height in meters to the opposite side and store this value in a new variable:"
   ]
  },
  {
   "cell_type": "raw",
   "metadata": {},
   "source": []
  },
  {
   "cell_type": "code",
   "execution_count": 6,
   "metadata": {},
   "outputs": [
    {
     "name": "stdout",
     "output_type": "stream",
     "text": [
      "81.0717726387298\n"
     ]
    }
   ],
   "source": [
    "maria=1.68\n",
    "hplat =(height+maria)\n",
    "print(hplat)\n"
   ]
  },
  {
   "cell_type": "markdown",
   "metadata": {
    "collapsed": true
   },
   "source": []
  },
  {
   "cell_type": "markdown",
   "metadata": {},
   "source": [
    "Now print out a sentence that says \"The Hayden Planetarium is X meters tall!\" using the variable you just created:"
   ]
  },
  {
   "cell_type": "code",
   "execution_count": 19,
   "metadata": {},
   "outputs": [
    {
     "name": "stdout",
     "output_type": "stream",
     "text": [
      "The Hayden Planetarium is 81 meters tall\n"
     ]
    }
   ],
   "source": [
    "print(\"The Hayden Planetarium is \" + str(int(hplat))+ \" meters tall\")"
   ]
  },
  {
   "cell_type": "markdown",
   "metadata": {},
   "source": [
    "### Congratulations! \n",
    "\n",
    "Now what if you wanted to repeat these calculations for the entire class and find the average building height? How would you do that?\n",
    "\n",
    "If you were thinking pandas... you're right! Let's move on to part two of the activity."
   ]
  }
 ],
 "metadata": {
  "kernelspec": {
   "display_name": "Python 3",
   "language": "python",
   "name": "python3"
  },
  "language_info": {
   "codemirror_mode": {
    "name": "ipython",
    "version": 3
   },
   "file_extension": ".py",
   "mimetype": "text/x-python",
   "name": "python",
   "nbconvert_exporter": "python",
   "pygments_lexer": "ipython3",
   "version": "3.7.3"
  }
 },
 "nbformat": 4,
 "nbformat_minor": 2
}
