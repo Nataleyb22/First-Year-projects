{
 "cells": [
  {
   "cell_type": "markdown",
   "metadata": {},
   "source": [
    "# Comparing brain to body mass ratios\n",
    "\n",
    "In this Jupyter Notebook you will write a function that takes a data frame and two column names and returns the average brain to body mass ratio for a given type of animal. Let's find out how smart animals are!"
   ]
  },
  {
   "cell_type": "markdown",
   "metadata": {},
   "source": [
    "Import the pandas library. We're going to need it!"
   ]
  },
  {
   "cell_type": "code",
   "execution_count": 12,
   "metadata": {},
   "outputs": [],
   "source": [
    "import pandas as pd"
   ]
  },
  {
   "cell_type": "markdown",
   "metadata": {},
   "source": [
    "Now create a data frame for the kind of animal that you worked with earlier today:\n",
    "\n",
    "**Note: We will be making more data frames later, so you should create a more specific variable than \"df\"**"
   ]
  },
  {
   "cell_type": "code",
   "execution_count": 13,
   "metadata": {},
   "outputs": [],
   "source": [
    "df_rep = pd.read_csv(\"reptile_body_brain_mass.csv\")\n"
   ]
  },
  {
   "cell_type": "markdown",
   "metadata": {},
   "source": [
    "Find the header for this data frame:"
   ]
  },
  {
   "cell_type": "code",
   "execution_count": 14,
   "metadata": {},
   "outputs": [
    {
     "data": {
      "text/html": [
       "<div>\n",
       "<style scoped>\n",
       "    .dataframe tbody tr th:only-of-type {\n",
       "        vertical-align: middle;\n",
       "    }\n",
       "\n",
       "    .dataframe tbody tr th {\n",
       "        vertical-align: top;\n",
       "    }\n",
       "\n",
       "    .dataframe thead th {\n",
       "        text-align: right;\n",
       "    }\n",
       "</style>\n",
       "<table border=\"1\" class=\"dataframe\">\n",
       "  <thead>\n",
       "    <tr style=\"text-align: right;\">\n",
       "      <th></th>\n",
       "      <th>Genus</th>\n",
       "      <th>Species</th>\n",
       "      <th>Body weight (g)</th>\n",
       "      <th>Brain weight (g)</th>\n",
       "    </tr>\n",
       "  </thead>\n",
       "  <tbody>\n",
       "    <tr>\n",
       "      <th>0</th>\n",
       "      <td>Uromastyx</td>\n",
       "      <td>acanthinurus</td>\n",
       "      <td>164.000</td>\n",
       "      <td>0.335</td>\n",
       "    </tr>\n",
       "    <tr>\n",
       "      <th>1</th>\n",
       "      <td>Crocodylus</td>\n",
       "      <td>acutus</td>\n",
       "      <td>134000.000</td>\n",
       "      <td>15.600</td>\n",
       "    </tr>\n",
       "    <tr>\n",
       "      <th>2</th>\n",
       "      <td>Crocodylus</td>\n",
       "      <td>acutus</td>\n",
       "      <td>110000.000</td>\n",
       "      <td>11.000</td>\n",
       "    </tr>\n",
       "    <tr>\n",
       "      <th>3</th>\n",
       "      <td>Agama</td>\n",
       "      <td>agama</td>\n",
       "      <td>29.300</td>\n",
       "      <td>0.173</td>\n",
       "    </tr>\n",
       "    <tr>\n",
       "      <th>4</th>\n",
       "      <td>Lacerta</td>\n",
       "      <td>agilis</td>\n",
       "      <td>12.057</td>\n",
       "      <td>0.076</td>\n",
       "    </tr>\n",
       "  </tbody>\n",
       "</table>\n",
       "</div>"
      ],
      "text/plain": [
       "        Genus       Species  Body weight (g)  Brain weight (g)\n",
       "0   Uromastyx  acanthinurus          164.000             0.335\n",
       "1  Crocodylus        acutus       134000.000            15.600\n",
       "2  Crocodylus        acutus       110000.000            11.000\n",
       "3       Agama         agama           29.300             0.173\n",
       "4     Lacerta        agilis           12.057             0.076"
      ]
     },
     "execution_count": 14,
     "metadata": {},
     "output_type": "execute_result"
    }
   ],
   "source": [
    "df_rep.head()"
   ]
  },
  {
   "cell_type": "markdown",
   "metadata": {},
   "source": [
    "Find the number of rows in this data frame:"
   ]
  },
  {
   "cell_type": "code",
   "execution_count": 15,
   "metadata": {},
   "outputs": [
    {
     "data": {
      "text/plain": [
       "186"
      ]
     },
     "execution_count": 15,
     "metadata": {},
     "output_type": "execute_result"
    }
   ],
   "source": [
    "len(df_rep)"
   ]
  },
  {
   "cell_type": "markdown",
   "metadata": {},
   "source": [
    "## Making a function"
   ]
  },
  {
   "cell_type": "markdown",
   "metadata": {},
   "source": [
    "Now it's time to make our function! You want to write a function that takes the name of the dataframe and the name of two columns and returns the average brain to body mass ratio. \n",
    "\n",
    "Remember: a brain to body mass ratio is simply the brain mass divided by the body mass\n",
    "\n",
    "It's probably a good idea to start with pseudocode!"
   ]
  },
  {
   "cell_type": "code",
   "execution_count": 16,
   "metadata": {},
   "outputs": [
    {
     "name": "stdout",
     "output_type": "stream",
     "text": [
      "0      0.002043\n",
      "1      0.000116\n",
      "2      0.000100\n",
      "3      0.005904\n",
      "4      0.006303\n",
      "5      0.010465\n",
      "6      0.001477\n",
      "7      0.006952\n",
      "8      0.001636\n",
      "9      0.012838\n",
      "10     0.015645\n",
      "11     0.014911\n",
      "12     0.013359\n",
      "13     0.013103\n",
      "14     0.011058\n",
      "15     0.009649\n",
      "16     0.001451\n",
      "17     0.012955\n",
      "18     0.014176\n",
      "19     0.018214\n",
      "20     0.014746\n",
      "21     0.014831\n",
      "22     0.016140\n",
      "23     0.009149\n",
      "24     0.000496\n",
      "25     0.011800\n",
      "26     0.002952\n",
      "27     0.003981\n",
      "28     0.000241\n",
      "29     0.000146\n",
      "         ...   \n",
      "156    0.003522\n",
      "157    0.004931\n",
      "158    0.005530\n",
      "159    0.004256\n",
      "160    0.006644\n",
      "161    0.001224\n",
      "162    0.014158\n",
      "163    0.013483\n",
      "164    0.012105\n",
      "165    0.013182\n",
      "166    0.014302\n",
      "167    0.012750\n",
      "168    0.016552\n",
      "169    0.012340\n",
      "170    0.011717\n",
      "171    0.012955\n",
      "172    0.014176\n",
      "173    0.016154\n",
      "174    0.013625\n",
      "175    0.014500\n",
      "176    0.015147\n",
      "177    0.017910\n",
      "178    0.015484\n",
      "179    0.015156\n",
      "180    0.000733\n",
      "181    0.005154\n",
      "182    0.005536\n",
      "183    0.005142\n",
      "184    0.008750\n",
      "185    0.003231\n",
      "Name: ratio, Length: 186, dtype: float64\n"
     ]
    }
   ],
   "source": [
    "def massratio(df, Body, Brain): #define\n",
    "    df[\"ratio\"]= df[Brain]/df[Body]\n",
    "    print(df[\"ratio\"])\n",
    "massratio(df,\"Body weight (g)\", \"Brain weight (g)\")\n"
   ]
  },
  {
   "cell_type": "code",
   "execution_count": 17,
   "metadata": {},
   "outputs": [
    {
     "data": {
      "text/plain": [
       "0.007955436245419471"
      ]
     },
     "execution_count": 17,
     "metadata": {},
     "output_type": "execute_result"
    }
   ],
   "source": [
    "df_rep[\"ratio\"].mean()"
   ]
  },
  {
   "cell_type": "markdown",
   "metadata": {},
   "source": [
    "Now read the other csv files into data frames and call your function for all of them:"
   ]
  },
  {
   "cell_type": "code",
   "execution_count": 21,
   "metadata": {},
   "outputs": [
    {
     "name": "stdout",
     "output_type": "stream",
     "text": [
      "0       0.000185\n",
      "1       0.000463\n",
      "2       0.000503\n",
      "3       0.000517\n",
      "4       0.000262\n",
      "5       0.001655\n",
      "6       0.000239\n",
      "7       0.000217\n",
      "8       0.000214\n",
      "9       0.000224\n",
      "10      0.000197\n",
      "11      0.000245\n",
      "12      0.000181\n",
      "13      0.000183\n",
      "14      0.000181\n",
      "15      0.000192\n",
      "16      0.000158\n",
      "17      0.000164\n",
      "18      0.000165\n",
      "19      0.000163\n",
      "20      0.000172\n",
      "21      0.000158\n",
      "22      0.000144\n",
      "23      0.000149\n",
      "24      0.000146\n",
      "25      0.000139\n",
      "26      0.000153\n",
      "27      0.000135\n",
      "28      0.000140\n",
      "29      0.000121\n",
      "          ...   \n",
      "3794    0.006235\n",
      "3795    0.000583\n",
      "3796    0.002311\n",
      "3797    0.001239\n",
      "3798    0.001113\n",
      "3799    0.001198\n",
      "3800    0.000842\n",
      "3801    0.000962\n",
      "3802    0.002432\n",
      "3803    0.001885\n",
      "3804    0.000471\n",
      "3805    0.001561\n",
      "3806    0.001685\n",
      "3807    0.000152\n",
      "3808    0.000182\n",
      "3809    0.002154\n",
      "3810    0.006795\n",
      "3811    0.004686\n",
      "3812    0.002957\n",
      "3813    0.010909\n",
      "3814    0.013529\n",
      "3815    0.007223\n",
      "3816    0.007571\n",
      "3817    0.007907\n",
      "3818    0.003187\n",
      "3819    0.000473\n",
      "3820    0.000324\n",
      "3821    0.000206\n",
      "3822    0.001302\n",
      "3823    0.000575\n",
      "Name: ratio, Length: 3824, dtype: float64\n"
     ]
    }
   ],
   "source": [
    "df_fish = pd.read_csv(\"fish_body_brain_mass.csv\")\n",
    "massratio(df_fish,\"Body weight (g)\", \"Brain weight (g)\")"
   ]
  },
  {
   "cell_type": "code",
   "execution_count": 23,
   "metadata": {},
   "outputs": [
    {
     "name": "stdout",
     "output_type": "stream",
     "text": [
      "0       0.005297\n",
      "1       0.004756\n",
      "2       0.006867\n",
      "3       0.006888\n",
      "4       0.007155\n",
      "5       0.007216\n",
      "6       0.004900\n",
      "7       0.005042\n",
      "8       0.007684\n",
      "9       0.038263\n",
      "10      0.013161\n",
      "11      0.007395\n",
      "12      0.003541\n",
      "13      0.037502\n",
      "14      0.036885\n",
      "15      0.049587\n",
      "16      0.003948\n",
      "17      0.019071\n",
      "18      0.015961\n",
      "19      0.010310\n",
      "20      0.011024\n",
      "21      0.015629\n",
      "22      0.034384\n",
      "23      0.022821\n",
      "24      0.019771\n",
      "25      0.020868\n",
      "26      0.029085\n",
      "27      0.026681\n",
      "28      0.021806\n",
      "29      0.012153\n",
      "          ...   \n",
      "4357    0.020658\n",
      "4358    0.023106\n",
      "4359    0.024757\n",
      "4360    0.031273\n",
      "4361    0.032603\n",
      "4362    0.021101\n",
      "4363    0.002350\n",
      "4364    0.003733\n",
      "4365    0.048773\n",
      "4366    0.032176\n",
      "4367    0.062802\n",
      "4368    0.034653\n",
      "4369    0.046667\n",
      "4370    0.043492\n",
      "4371    0.041531\n",
      "4372    0.033012\n",
      "4373    0.061905\n",
      "4374    0.048903\n",
      "4375    0.032358\n",
      "4376    0.030978\n",
      "4377    0.028386\n",
      "4378    0.028045\n",
      "4379    0.036280\n",
      "4380    0.031685\n",
      "4381    0.032964\n",
      "4382    0.038848\n",
      "4383    0.030540\n",
      "4384    0.037489\n",
      "4385    0.036620\n",
      "4386    0.036250\n",
      "Name: ratio, Length: 4387, dtype: float64\n"
     ]
    }
   ],
   "source": [
    "df_bird = pd.read_csv(\"bird_body_brain_mass.csv\")\n",
    "massratio(df_bird,"
   ]
  },
  {
   "cell_type": "code",
   "execution_count": 25,
   "metadata": {},
   "outputs": [
    {
     "name": "stdout",
     "output_type": "stream",
     "text": [
      "0       0.010934\n",
      "1       0.012553\n",
      "2       0.012660\n",
      "3       0.024959\n",
      "4       0.010000\n",
      "5       0.004708\n",
      "6       0.022622\n",
      "7       0.022203\n",
      "8       0.020000\n",
      "9       0.001914\n",
      "10      0.020528\n",
      "11      0.012677\n",
      "12      0.026672\n",
      "13      0.031447\n",
      "14      0.001371\n",
      "15      0.025741\n",
      "16      0.010025\n",
      "17      0.022478\n",
      "18      0.024000\n",
      "19      0.002258\n",
      "20      0.001261\n",
      "21      0.002055\n",
      "22      0.000773\n",
      "23      0.000858\n",
      "24      0.001629\n",
      "25      0.001978\n",
      "26      0.006879\n",
      "27      0.006989\n",
      "28      0.020277\n",
      "29      0.016975\n",
      "          ...   \n",
      "1961    0.007037\n",
      "1962    0.011524\n",
      "1963    0.017098\n",
      "1964    0.016082\n",
      "1965    0.011924\n",
      "1966    0.012577\n",
      "1967    0.008000\n",
      "1968    0.004444\n",
      "1969    0.005850\n",
      "1970    0.024062\n",
      "1971    0.003133\n",
      "1972    0.002400\n",
      "1973    0.001375\n",
      "1974    0.001300\n",
      "1975    0.031351\n",
      "1976    0.037750\n",
      "1977    0.028690\n",
      "1978    0.005979\n",
      "1979    0.028035\n",
      "1980    0.026616\n",
      "1981    0.028261\n",
      "1982    0.018681\n",
      "1983    0.008300\n",
      "1984    0.033255\n",
      "1985    0.011941\n",
      "1986    0.005922\n",
      "1987    0.004437\n",
      "1988    0.003445\n",
      "1989    0.011896\n",
      "1990    0.013273\n",
      "Name: ratio, Length: 1991, dtype: float64\n"
     ]
    }
   ],
   "source": [
    "df_mam = pd.read_csv(\"mammal_body_brain_mass.csv\")\n",
    "massratio(df_mam ,\"Body mass (g)\", \"Brain mass (g)\")"
   ]
  },
  {
   "cell_type": "code",
   "execution_count": 28,
   "metadata": {},
   "outputs": [
    {
     "name": "stdout",
     "output_type": "stream",
     "text": [
      "0      0.005325\n",
      "1      0.002443\n",
      "2      0.004528\n",
      "3      0.002615\n",
      "4      0.001435\n",
      "5      0.001732\n",
      "6      0.001984\n",
      "7      0.002602\n",
      "8      0.002622\n",
      "9      0.002353\n",
      "10     0.002819\n",
      "11     0.002416\n",
      "12     0.002154\n",
      "13     0.001640\n",
      "14     0.003987\n",
      "15     0.003823\n",
      "16     0.004020\n",
      "17     0.005439\n",
      "18     0.004919\n",
      "19     0.004613\n",
      "20     0.004861\n",
      "21     0.003828\n",
      "22     0.005623\n",
      "23     0.004094\n",
      "24     0.001186\n",
      "25     0.001198\n",
      "26     0.001242\n",
      "27     0.001342\n",
      "28     0.001448\n",
      "29     0.001565\n",
      "         ...   \n",
      "484    0.004346\n",
      "485    0.004908\n",
      "486    0.004733\n",
      "487    0.001889\n",
      "488    0.002181\n",
      "489    0.002188\n",
      "490    0.002807\n",
      "491    0.005143\n",
      "492    0.003150\n",
      "493    0.003091\n",
      "494    0.002018\n",
      "495    0.003029\n",
      "496    0.003273\n",
      "497    0.002305\n",
      "498    0.003318\n",
      "499    0.002795\n",
      "500    0.002396\n",
      "501    0.003215\n",
      "502    0.002863\n",
      "503    0.002559\n",
      "504    0.003487\n",
      "505    0.004382\n",
      "506    0.003519\n",
      "507    0.003616\n",
      "508    0.004409\n",
      "509    0.003073\n",
      "510    0.002547\n",
      "511    0.003928\n",
      "512    0.002934\n",
      "513    0.002701\n",
      "Name: ratio, Length: 514, dtype: float64\n"
     ]
    }
   ],
   "source": [
    "def_amp=pd.read_csv(\"amphibian_body_brain_mass.csv\")\n",
    "massratio(def_amp,\"Body weight (g)\", \"Brain weight (g)\")"
   ]
  },
  {
   "cell_type": "markdown",
   "metadata": {},
   "source": [
    "## Bonus Challenge\n",
    "Create a bar graph that compares the average brain to body mass ratios for each animal type:"
   ]
  },
  {
   "cell_type": "code",
   "execution_count": null,
   "metadata": {
    "collapsed": true
   },
   "outputs": [],
   "source": []
  }
 ],
 "metadata": {
  "kernelspec": {
   "display_name": "Python 3",
   "language": "python",
   "name": "python3"
  },
  "language_info": {
   "codemirror_mode": {
    "name": "ipython",
    "version": 3
   },
   "file_extension": ".py",
   "mimetype": "text/x-python",
   "name": "python",
   "nbconvert_exporter": "python",
   "pygments_lexer": "ipython3",
   "version": "3.7.3"
  }
 },
 "nbformat": 4,
 "nbformat_minor": 2
}
