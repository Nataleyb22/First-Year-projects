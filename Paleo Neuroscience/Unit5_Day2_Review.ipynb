{
 "cells": [
  {
   "cell_type": "markdown",
   "metadata": {},
   "source": [
    "## Unit 5 Day 2 - Functions Review"
   ]
  },
  {
   "cell_type": "markdown",
   "metadata": {},
   "source": [
    "In the first weekly challenge, we wrote a program that displays the reverse of any number input."
   ]
  },
  {
   "cell_type": "code",
   "execution_count": 2,
   "metadata": {},
   "outputs": [
    {
     "name": "stdout",
     "output_type": "stream",
     "text": [
      "5983178951\n"
     ]
    }
   ],
   "source": [
    "#Create a program that displays the reverse of the digits of any given integer.\n",
    "\n",
    "numberInput = 1598713895\n",
    "numberString = str(numberInput)\n",
    "stringReversed = \"\"\n",
    "\n",
    "for i in range(len(numberString)-1, -1, -1):\n",
    "    stringReversed = stringReversed + str(numberString[i])\n",
    "print(stringReversed)"
   ]
  },
  {
   "cell_type": "markdown",
   "metadata": {},
   "source": [
    "Create a function called reverseNumber that takes an integer, numberInput, as a parameter and returns a string that represents the reversed digits of the numberInput.\n",
    "\n",
    "Remember your function needs the following:\n",
    "* the `def` keyword to define the function at the beginning\n",
    "* a parameter a.k.a the information that your function needs to work\n",
    "* a return value a.k.a the \"answer\" that your function will be giving you"
   ]
  },
  {
   "cell_type": "code",
   "execution_count": 3,
   "metadata": {
    "collapsed": true
   },
   "outputs": [],
   "source": [
    "def reverseNumber(numberInput):\n",
    "    numberString = str(numberInput)\n",
    "    stringReversed = \"\"\n",
    "\n",
    "    for i in range(len(numberString)-1, -1, -1):\n",
    "        stringReversed = stringReversed + str(numberString[i])\n",
    "    return stringReversed"
   ]
  },
  {
   "cell_type": "markdown",
   "metadata": {},
   "source": [
    "Now try calling your new function on any number! :D "
   ]
  },
  {
   "cell_type": "code",
   "execution_count": 4,
   "metadata": {},
   "outputs": [
    {
     "data": {
      "text/plain": [
       "'5983178951'"
      ]
     },
     "execution_count": 4,
     "metadata": {},
     "output_type": "execute_result"
    }
   ],
   "source": [
    "reverseNumber(1598713895)"
   ]
  }
 ],
 "metadata": {
  "kernelspec": {
   "display_name": "Python 3",
   "language": "python",
   "name": "python3"
  },
  "language_info": {
   "codemirror_mode": {
    "name": "ipython",
    "version": 3
   },
   "file_extension": ".py",
   "mimetype": "text/x-python",
   "name": "python",
   "nbconvert_exporter": "python",
   "pygments_lexer": "ipython3",
   "version": "3.7.3"
  }
 },
 "nbformat": 4,
 "nbformat_minor": 2
}
