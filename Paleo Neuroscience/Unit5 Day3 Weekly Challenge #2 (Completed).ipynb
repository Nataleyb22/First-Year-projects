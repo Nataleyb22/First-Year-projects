{
 "cells": [
  {
   "cell_type": "markdown",
   "metadata": {},
   "source": [
    "# Unit 5 Day 3 - Weekly Challenge #2 (Completed)"
   ]
  },
  {
   "cell_type": "markdown",
   "metadata": {},
   "source": [
    "## Palindrome Function"
   ]
  },
  {
   "cell_type": "markdown",
   "metadata": {},
   "source": [
    "A palindrome is a word that can be written and read as the same word when you reverse it.\n",
    "\n",
    "Examples: \n",
    "* `racecar` backwards is `racecar`. Therefore, the word `racecar` is a palindrome.\n",
    "* `madam` backwards is `madam`. Therefore, the word `madam` is a palindrome.\n"
   ]
  },
  {
   "cell_type": "markdown",
   "metadata": {},
   "source": [
    "Write a function that tells whether a word is a palindrome or not.\n",
    "The function should:\n",
    "* take 1 parameter, the word that you are testing, as input\n",
    "* return a string that states whether the input is a palindrome or not"
   ]
  },
  {
   "cell_type": "code",
   "execution_count": 1,
   "metadata": {
    "collapsed": true
   },
   "outputs": [],
   "source": [
    "def isPalindrome(word):\n",
    "    \n",
    "    #Find out what the word backward spells as.\n",
    "    word_butBackward = \"\"\n",
    "    for i in range(len(word)-1, -1, -1):\n",
    "        word_butBackward += word[i]\n",
    "    \n",
    "    #Check to see if the word spelled backwards matches the word.\n",
    "    response = \"\"\n",
    "    if word_butBackward == word:\n",
    "        response = word + \" is a palindrome.\"\n",
    "    else:\n",
    "        response = word + \" is not a palindrome.\"\n",
    "        \n",
    "    return response"
   ]
  },
  {
   "cell_type": "markdown",
   "metadata": {},
   "source": [
    "Now, call the function."
   ]
  },
  {
   "cell_type": "code",
   "execution_count": 9,
   "metadata": {},
   "outputs": [
    {
     "data": {
      "text/plain": [
       "'racecar is a palindrome.'"
      ]
     },
     "execution_count": 9,
     "metadata": {},
     "output_type": "execute_result"
    }
   ],
   "source": [
    "isPalindrome(\"racecar\")"
   ]
  }
 ],
 "metadata": {
  "kernelspec": {
   "display_name": "Python 3",
   "language": "python",
   "name": "python3"
  },
  "language_info": {
   "codemirror_mode": {
    "name": "ipython",
    "version": 3
   },
   "file_extension": ".py",
   "mimetype": "text/x-python",
   "name": "python",
   "nbconvert_exporter": "python",
   "pygments_lexer": "ipython3",
   "version": "3.6.2"
  }
 },
 "nbformat": 4,
 "nbformat_minor": 2
}
