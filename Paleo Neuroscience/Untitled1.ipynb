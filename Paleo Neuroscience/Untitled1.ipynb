{
 "cells": [
  {
   "cell_type": "code",
   "execution_count": 4,
   "metadata": {},
   "outputs": [],
   "source": [
    "import pandas as pd"
   ]
  },
  {
   "cell_type": "code",
   "execution_count": 5,
   "metadata": {},
   "outputs": [
    {
     "data": {
      "text/html": [
       "<div>\n",
       "<style scoped>\n",
       "    .dataframe tbody tr th:only-of-type {\n",
       "        vertical-align: middle;\n",
       "    }\n",
       "\n",
       "    .dataframe tbody tr th {\n",
       "        vertical-align: top;\n",
       "    }\n",
       "\n",
       "    .dataframe thead th {\n",
       "        text-align: right;\n",
       "    }\n",
       "</style>\n",
       "<table border=\"1\" class=\"dataframe\">\n",
       "  <thead>\n",
       "    <tr style=\"text-align: right;\">\n",
       "      <th></th>\n",
       "      <th>Animal</th>\n",
       "      <th>Olfactory Bulbs (mm)</th>\n",
       "      <th>Cerebrum (mm)</th>\n",
       "      <th>Optic Lobes (mm)</th>\n",
       "      <th>Cerebellum (mm)</th>\n",
       "      <th>Volume (cm3)</th>\n",
       "    </tr>\n",
       "  </thead>\n",
       "  <tbody>\n",
       "    <tr>\n",
       "      <th>0</th>\n",
       "      <td>Human</td>\n",
       "      <td>11</td>\n",
       "      <td>123</td>\n",
       "      <td>0</td>\n",
       "      <td>97.0</td>\n",
       "      <td>1130.00</td>\n",
       "    </tr>\n",
       "    <tr>\n",
       "      <th>1</th>\n",
       "      <td>Rat</td>\n",
       "      <td>18</td>\n",
       "      <td>61</td>\n",
       "      <td>30</td>\n",
       "      <td>60.4</td>\n",
       "      <td>0.59</td>\n",
       "    </tr>\n",
       "    <tr>\n",
       "      <th>2</th>\n",
       "      <td>Alligator (adult)</td>\n",
       "      <td>9</td>\n",
       "      <td>17</td>\n",
       "      <td>10</td>\n",
       "      <td>7.0</td>\n",
       "      <td>5.65</td>\n",
       "    </tr>\n",
       "    <tr>\n",
       "      <th>3</th>\n",
       "      <td>Alligator (baby)</td>\n",
       "      <td>5</td>\n",
       "      <td>15</td>\n",
       "      <td>10</td>\n",
       "      <td>7.0</td>\n",
       "      <td>1.71</td>\n",
       "    </tr>\n",
       "    <tr>\n",
       "      <th>4</th>\n",
       "      <td>Bald Eagle</td>\n",
       "      <td>6</td>\n",
       "      <td>40</td>\n",
       "      <td>25</td>\n",
       "      <td>9.0</td>\n",
       "      <td>18.04</td>\n",
       "    </tr>\n",
       "  </tbody>\n",
       "</table>\n",
       "</div>"
      ],
      "text/plain": [
       "              Animal  Olfactory Bulbs (mm)  Cerebrum (mm)  Optic Lobes (mm)  \\\n",
       "0              Human                    11            123                 0   \n",
       "1                Rat                    18             61                30   \n",
       "2  Alligator (adult)                     9             17                10   \n",
       "3   Alligator (baby)                     5             15                10   \n",
       "4         Bald Eagle                     6             40                25   \n",
       "\n",
       "   Cerebellum (mm)  Volume (cm3)  \n",
       "0             97.0       1130.00  \n",
       "1             60.4          0.59  \n",
       "2              7.0          5.65  \n",
       "3              7.0          1.71  \n",
       "4              9.0         18.04  "
      ]
     },
     "execution_count": 5,
     "metadata": {},
     "output_type": "execute_result"
    }
   ],
   "source": [
    "df = pd.read_csv(\"animal_brains.csv\")\n",
    "df.head()"
   ]
  },
  {
   "cell_type": "code",
   "execution_count": 9,
   "metadata": {},
   "outputs": [],
   "source": [
    "def regiontoratio(df,animaltype,brainregion):\n",
    "    animal_df = df.loc[df[\"Animal\"] == animaltype].copy()\n",
    "    ratio = float(animal_df[brainregion]/animal_df[\"Volume (cm3)\"])\n",
    "    print(animal_df)\n",
    "    return ratio"
   ]
  },
  {
   "cell_type": "code",
   "execution_count": 8,
   "metadata": {},
   "outputs": [
    {
     "name": "stdout",
     "output_type": "stream",
     "text": [
      "  Animal  Olfactory Bulbs (mm)  Cerebrum (mm)  Optic Lobes (mm)  \\\n",
      "1    Rat                    18             61                30   \n",
      "\n",
      "   Cerebellum (mm)  Volume (cm3)  \n",
      "1             60.4          0.59  \n"
     ]
    },
    {
     "data": {
      "text/plain": [
       "30.508474576271187"
      ]
     },
     "execution_count": 8,
     "metadata": {},
     "output_type": "execute_result"
    }
   ],
   "source": [
    "regiontoratio(df,\"Rat\",\"Olfactory Bulbs (mm)\")"
   ]
  },
  {
   "cell_type": "code",
   "execution_count": null,
   "metadata": {},
   "outputs": [],
   "source": []
  }
 ],
 "metadata": {
  "kernelspec": {
   "display_name": "Python 3",
   "language": "python",
   "name": "python3"
  },
  "language_info": {
   "codemirror_mode": {
    "name": "ipython",
    "version": 3
   },
   "file_extension": ".py",
   "mimetype": "text/x-python",
   "name": "python",
   "nbconvert_exporter": "python",
   "pygments_lexer": "ipython3",
   "version": "3.7.3"
  }
 },
 "nbformat": 4,
 "nbformat_minor": 2
}
