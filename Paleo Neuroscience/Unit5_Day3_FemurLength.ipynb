{
 "cells": [
  {
   "cell_type": "markdown",
   "metadata": {},
   "source": [
    "# Calculating the body mass of dinosaurs\n",
    "\n",
    "In this Jupyter Notebook you will write a function that takes a femur length and dinosaur type and returns the predicted body mass of the dinosaur. Then you will write a function that finds the average body mass for a given type of dinosaur.\n",
    "\n",
    "### Work with your partner on this Notebook"
   ]
  },
  {
   "cell_type": "markdown",
   "metadata": {},
   "source": [
    "Import numpy and pandas. We won't need pandas for the first part of the activity, but we'll need it later."
   ]
  },
  {
   "cell_type": "code",
   "execution_count": 10,
   "metadata": {},
   "outputs": [],
   "source": [
    "import numpy as np\n",
    "import pandas as pd"
   ]
  },
  {
   "cell_type": "markdown",
   "metadata": {},
   "source": [
    "Here are the equations for converting femur length (FL) to body mass (in kg) for each dinosaur type:"
   ]
  },
  {
   "cell_type": "code",
   "execution_count": null,
   "metadata": {},
   "outputs": [],
   "source": [
    "#ornithischian: 10**(3.0587*np.log10(FL)-2.7042)/1000\n",
    "\n",
    "#sauropod: 10**(2.3459*np.log10(FL)-0.2935)/1000\n",
    "\n",
    "#theropod: 10**(3.1854*np.log10(FL)-3.184)/1000"
   ]
  },
  {
   "cell_type": "markdown",
   "metadata": {},
   "source": [
    "Using these formulas, create a function that takes *two arguments:* the **dinosaur type** and the **femur length in mm** and *returns* the **dinosaur's body mass**"
   ]
  },
  {
   "cell_type": "code",
   "execution_count": 11,
   "metadata": {},
   "outputs": [],
   "source": [
    "def bodyMass(dinosaurType,FL):\n",
    "    bodyMass=0\n",
    "    if dinosaurType ==\"ornithischian\":\n",
    "        bodyMass=10**(3.0587*np.log10(FL)-2.7042)/1000\n",
    "    elif  dinosaurType == \"sauropod\":\n",
    "        bodyMass= 10**(2.3459*np.log10(FL)-0.2935)/1000\n",
    "    elif dinosaurType == \"theropod\" :\n",
    "        bodyMass=  10**(3.1854*np.log10(FL)-3.184)/1000\n",
    "    \n",
    "    \n",
    "    return bodyMass\n",
    "\n"
   ]
  },
  {
   "cell_type": "markdown",
   "metadata": {},
   "source": [
    "Now, call your function with the information for your dinosaur and print the result:"
   ]
  },
  {
   "cell_type": "code",
   "execution_count": 12,
   "metadata": {},
   "outputs": [
    {
     "data": {
      "text/plain": [
       "2356.1340739338502"
      ]
     },
     "execution_count": 12,
     "metadata": {},
     "output_type": "execute_result"
    }
   ],
   "source": [
    "bodyMass(\"theropod\",1000)"
   ]
  },
  {
   "cell_type": "markdown",
   "metadata": {},
   "source": [
    "For reference, here is the average body mass in kg of a few animals:\n",
    "- golden retreivers: 27 kg\n",
    "- humans: 62 kg\n",
    "- elephants: 4500 kg\n",
    "- blue whales: 110,000 kg"
   ]
  },
  {
   "cell_type": "markdown",
   "metadata": {},
   "source": [
    "## Part 2: Working with a larger dataset\n",
    "In the next part of the notebook, you will work with a data set that contains the femur lengths for a number of dinosaurs of each type. "
   ]
  },
  {
   "cell_type": "markdown",
   "metadata": {},
   "source": [
    "Create a variable and read in the CSV file to create a dataframe:"
   ]
  },
  {
   "cell_type": "code",
   "execution_count": 16,
   "metadata": {},
   "outputs": [],
   "source": [
    "df= pd.read_csv(\"Dinosaur_FemurLength.csv\")"
   ]
  },
  {
   "cell_type": "markdown",
   "metadata": {},
   "source": [
    "Find the header for this data frame:"
   ]
  },
  {
   "cell_type": "code",
   "execution_count": 17,
   "metadata": {},
   "outputs": [
    {
     "data": {
      "text/html": [
       "<div>\n",
       "<style scoped>\n",
       "    .dataframe tbody tr th:only-of-type {\n",
       "        vertical-align: middle;\n",
       "    }\n",
       "\n",
       "    .dataframe tbody tr th {\n",
       "        vertical-align: top;\n",
       "    }\n",
       "\n",
       "    .dataframe thead th {\n",
       "        text-align: right;\n",
       "    }\n",
       "</style>\n",
       "<table border=\"1\" class=\"dataframe\">\n",
       "  <thead>\n",
       "    <tr style=\"text-align: right;\">\n",
       "      <th></th>\n",
       "      <th>Clade</th>\n",
       "      <th>Genus</th>\n",
       "      <th>Species</th>\n",
       "      <th>Femur length (mm)</th>\n",
       "    </tr>\n",
       "  </thead>\n",
       "  <tbody>\n",
       "    <tr>\n",
       "      <th>0</th>\n",
       "      <td>Ornithischia</td>\n",
       "      <td>Anatosaurus*</td>\n",
       "      <td>copei*</td>\n",
       "      <td>1150.0</td>\n",
       "    </tr>\n",
       "    <tr>\n",
       "      <th>1</th>\n",
       "      <td>Ornithischia</td>\n",
       "      <td>Bactrosaurus</td>\n",
       "      <td>johnsoni</td>\n",
       "      <td>790.5</td>\n",
       "    </tr>\n",
       "    <tr>\n",
       "      <th>2</th>\n",
       "      <td>Ornithischia</td>\n",
       "      <td>Corythosaurus</td>\n",
       "      <td>casuarius</td>\n",
       "      <td>1080.0</td>\n",
       "    </tr>\n",
       "    <tr>\n",
       "      <th>3</th>\n",
       "      <td>Ornithischia</td>\n",
       "      <td>Edmontosaurus</td>\n",
       "      <td>annectens</td>\n",
       "      <td>1068.5</td>\n",
       "    </tr>\n",
       "    <tr>\n",
       "      <th>4</th>\n",
       "      <td>Ornithischia</td>\n",
       "      <td>Edmontosaurus</td>\n",
       "      <td>regalis</td>\n",
       "      <td>1245.0</td>\n",
       "    </tr>\n",
       "  </tbody>\n",
       "</table>\n",
       "</div>"
      ],
      "text/plain": [
       "          Clade          Genus    Species  Femur length (mm)\n",
       "0  Ornithischia   Anatosaurus*     copei*             1150.0\n",
       "1  Ornithischia   Bactrosaurus   johnsoni              790.5\n",
       "2  Ornithischia  Corythosaurus  casuarius             1080.0\n",
       "3  Ornithischia  Edmontosaurus  annectens             1068.5\n",
       "4  Ornithischia  Edmontosaurus    regalis             1245.0"
      ]
     },
     "execution_count": 17,
     "metadata": {},
     "output_type": "execute_result"
    }
   ],
   "source": [
    "df.head()"
   ]
  },
  {
   "cell_type": "markdown",
   "metadata": {},
   "source": [
    "Find the number of rows in this data frame:"
   ]
  },
  {
   "cell_type": "code",
   "execution_count": 18,
   "metadata": {},
   "outputs": [
    {
     "data": {
      "text/plain": [
       "77"
      ]
     },
     "execution_count": 18,
     "metadata": {},
     "output_type": "execute_result"
    }
   ],
   "source": [
    "len(df)"
   ]
  },
  {
   "cell_type": "markdown",
   "metadata": {},
   "source": [
    "Next, create a function that takes *one argument:* the **dinosaur type** and *returns* the **average body mass** for that dinosaur type.\n",
    "\n",
    "(Note: You do not need to specify the data frame as an argument, because we are only working with a single data frame)\n",
    "\n",
    "Hints: \n",
    "- You will need to use the .loc[] index command that we learned for the Astrophysics unit project.\n",
    "- The three dinosaur types (Clades) in this data set are: Ornithischia, Sauropodomorpha, and Theropoda"
   ]
  },
  {
   "cell_type": "code",
   "execution_count": 20,
   "metadata": {},
   "outputs": [],
   "source": [
    "def avgbodyMass(dtype):\n",
    "    df_clade = df.loc[[df[\"Clade\"]]==dtype].copy()\n",
    "    if dtype == \"ornithischia\":\n",
    "        df_clade[\"bodymass\"] = 10**(3.0587*np.log10(df_clad[\"Femur Length (mm)\"])-2.7042)/1000\n",
    "        elif dtype == \"Sauropodomorpha\":\n",
    "            df_clade[\"bodymass\"]\n",
    "    \n",
    "    avg_bmass= df_clade[\"body mass\"].mean()\n",
    "    \n",
    "    return avg_bmass"
   ]
  },
  {
   "cell_type": "markdown",
   "metadata": {},
   "source": [
    "Test out your function! Call it for each dinosaur type and print the result:"
   ]
  },
  {
   "cell_type": "code",
   "execution_count": null,
   "metadata": {},
   "outputs": [],
   "source": []
  },
  {
   "cell_type": "code",
   "execution_count": null,
   "metadata": {},
   "outputs": [],
   "source": []
  },
  {
   "cell_type": "code",
   "execution_count": null,
   "metadata": {},
   "outputs": [],
   "source": []
  },
  {
   "cell_type": "markdown",
   "metadata": {},
   "source": [
    "## Bonus Challenge\n",
    "Make a bar graph that compares the average body mass for each dinosaur type:"
   ]
  },
  {
   "cell_type": "code",
   "execution_count": null,
   "metadata": {
    "collapsed": true
   },
   "outputs": [],
   "source": []
  }
 ],
 "metadata": {
  "kernelspec": {
   "display_name": "Python 3",
   "language": "python",
   "name": "python3"
  },
  "language_info": {
   "codemirror_mode": {
    "name": "ipython",
    "version": 3
   },
   "file_extension": ".py",
   "mimetype": "text/x-python",
   "name": "python",
   "nbconvert_exporter": "python",
   "pygments_lexer": "ipython3",
   "version": "3.7.3"
  }
 },
 "nbformat": 4,
 "nbformat_minor": 2
}
