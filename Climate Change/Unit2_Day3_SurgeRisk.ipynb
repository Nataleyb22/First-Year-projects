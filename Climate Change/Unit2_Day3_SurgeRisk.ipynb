{
 "cells": [
  {
   "cell_type": "markdown",
   "metadata": {},
   "source": [
    "# Evaluating Storm Surge Risk\n",
    "\n",
    "In this notebook you will explore the risk to different countries around the world caused by sea level rise and increasing storms."
   ]
  },
  {
   "cell_type": "markdown",
   "metadata": {},
   "source": [
    "We will be plotting our data using matplotlib, so import that library with its alias:"
   ]
  },
  {
   "cell_type": "code",
   "execution_count": 19,
   "metadata": {},
   "outputs": [],
   "source": [
    "import matplotlib as plt"
   ]
  },
  {
   "cell_type": "markdown",
   "metadata": {},
   "source": [
    "\n",
    "\n",
    "## Exploring the data\n",
    "Look on Slack for your region and copy and paste the list of data into the cell below (remember to assign it to a variable):\n",
    "\n",
    "Note: Your data is a list of lists. Each list contains the following values for the countries in your region with the largest percentage of urban inhabitants:\n",
    "- Country name\n",
    "- Latitude\n",
    "- Longitude\n",
    "- Population (2008)\n",
    "- Population in storm surge area (2008)"
   ]
  },
  {
   "cell_type": "code",
   "execution_count": 20,
   "metadata": {},
   "outputs": [],
   "source": [
    "Asia_data = [[\"Hong Kong\", 22.396428, 114.109497, 7018640, 231810], [\"Macao\", 22.198745, 113.543873, 545670, 34390],\n",
    "        [\"Singapore\", 1.352083, 103.819836, 4608170, 196980], [\"Kuwait\", 29.31166, 47.481766, 2598060, 521260],\n",
    "        [\"Qatar\", 25.354826, 51.183884, 824790, 72480], [\"Israel\", 31.046051, 34.851612, 7112360, 220760],\n",
    "        [\"Bahrain\", 25.930414, 50.637772, 719170, 215130], [\"Lebanon\", 33.854721, 35.862285, 4038020, 313980],\n",
    "        [\"Saudi Arabia\", 23.885942, 45.079162, 24917410, 1327260], [\"South Korea\", 35.907757, 127.766922, 48379390, 2499420]]"
   ]
  },
  {
   "cell_type": "markdown",
   "metadata": {},
   "source": [
    "Let's practice using list indexes. Print out the first list from your data:"
   ]
  },
  {
   "cell_type": "code",
   "execution_count": 21,
   "metadata": {},
   "outputs": [
    {
     "name": "stdout",
     "output_type": "stream",
     "text": [
      "['Hong Kong', 22.396428, 114.109497, 7018640, 231810]\n"
     ]
    }
   ],
   "source": [
    "print(Asia_data[0])"
   ]
  },
  {
   "cell_type": "markdown",
   "metadata": {},
   "source": [
    "Now, print out just the latitude from that list:"
   ]
  },
  {
   "cell_type": "code",
   "execution_count": 22,
   "metadata": {},
   "outputs": [
    {
     "name": "stdout",
     "output_type": "stream",
     "text": [
      "22.396428\n"
     ]
    }
   ],
   "source": [
    "\n",
    "# Hint: If one of the values in a list is a list itself, you can index it like this: my_list[0]\n",
    "print(Asia_data[0][1])"
   ]
  },
  {
   "cell_type": "markdown",
   "metadata": {},
   "source": [
    "You can select more than one value from a list using a \"slice\". \n",
    "\n",
    "For example, [0] selects just the first value and [1] selects just the second value, but [0:2] selects values one and two. \n",
    "\n",
    "Note: you need to slice from the first value you want to **the last value you want +1**\n",
    "\n",
    "Try it yourself! Print out the latitude and longitude from the first item in your list using a slice:"
   ]
  },
  {
   "cell_type": "code",
   "execution_count": 23,
   "metadata": {},
   "outputs": [
    {
     "name": "stdout",
     "output_type": "stream",
     "text": [
      "[22.396428, 114.109497]\n"
     ]
    }
   ],
   "source": [
    "print(Asia_data[0][1:3])"
   ]
  },
  {
   "cell_type": "markdown",
   "metadata": {},
   "source": [
    "## Assessing risk\n",
    "\n",
    "Let's find out which countries in your region are at the highest risk. \n",
    "\n",
    "First, write code that loops through each list in your data and prints out the population in the storm surge area:"
   ]
  },
  {
   "cell_type": "code",
   "execution_count": 24,
   "metadata": {},
   "outputs": [
    {
     "name": "stdout",
     "output_type": "stream",
     "text": [
      "231810\n",
      "34390\n",
      "196980\n",
      "521260\n",
      "72480\n",
      "220760\n",
      "215130\n",
      "313980\n",
      "1327260\n",
      "2499420\n"
     ]
    }
   ],
   "source": [
    "for i in Asia_data:\n",
    "    print(i[4])\n"
   ]
  },
  {
   "cell_type": "markdown",
   "metadata": {},
   "source": [
    "Now write code that prints the percent of the population in each country that lives in the storm surge area:\n",
    "Note: percent = subset/total * 100"
   ]
  },
  {
   "cell_type": "code",
   "execution_count": 25,
   "metadata": {},
   "outputs": [
    {
     "name": "stdout",
     "output_type": "stream",
     "text": [
      "3.3027766062940973\n",
      "6.302343907489876\n",
      "4.274581883914872\n",
      "20.063431945374628\n",
      "8.787691412359509\n",
      "3.1038923789009556\n",
      "29.91365045816705\n",
      "7.7755929886429485\n",
      "5.3266370782517125\n",
      "5.166290852365026\n"
     ]
    }
   ],
   "source": [
    "# For a challenge, try including the name of the country in your print statement\n",
    "for i in Asia_data:\n",
    "    print(i[4]/i[3]*100)\n",
    "    "
   ]
  },
  {
   "cell_type": "markdown",
   "metadata": {
    "collapsed": true
   },
   "source": [
    "\n",
    "\n",
    "## Mapping the data\n",
    "\n",
    "Let's put these countries on the map! We're going to plot each country on a map of your region, which means we need to create lists of the latitude and longitudes. To represent the risk each country faces from sea level rise, let's create three sets of lists:\n",
    "- Low risk (% pop in storm surge area <=5)\n",
    "- Medium risk (% pop in storm surge area >5 and <10)\n",
    "- Low risk (% pop in storm surge area >=10)"
   ]
  },
  {
   "cell_type": "markdown",
   "metadata": {},
   "source": [
    "Write code below that creates fills in 6 lists: lat_low, lon_low, lat_med, lon_med, lat_high, lon_high:"
   ]
  },
  {
   "cell_type": "code",
   "execution_count": 33,
   "metadata": {},
   "outputs": [],
   "source": [
    "lat_low = []\n",
    "lon_low =[]\n",
    "lat_med = []\n",
    "lon_med = []\n",
    "lat_high = []\n",
    "lon_high = []"
   ]
  },
  {
   "cell_type": "markdown",
   "metadata": {},
   "source": [
    "Print out your lat and lon lists to check that they contain the right values:"
   ]
  },
  {
   "cell_type": "code",
   "execution_count": 36,
   "metadata": {},
   "outputs": [
    {
     "name": "stdout",
     "output_type": "stream",
     "text": [
      "[22.396428, 1.352083, 31.046051, 22.396428, 1.352083, 31.046051, 22.396428, 1.352083, 31.046051]\n",
      "[114.109497, 103.819836, 34.851612, 114.109497, 103.819836, 34.851612, 114.109497, 103.819836, 34.851612]\n",
      "[22.198745, 25.354826, 33.854721, 23.885942, 35.907757, 22.198745, 25.354826, 33.854721, 23.885942, 35.907757, 22.198745, 25.354826, 33.854721, 23.885942, 35.907757]\n",
      "[113.543873, 51.183884, 35.862285, 45.079162, 127.766922, 113.543873, 51.183884, 35.862285, 45.079162, 127.766922, 113.543873, 51.183884, 35.862285, 45.079162, 127.766922]\n",
      "[29.31166, 25.930414, 29.31166, 25.930414, 29.31166, 25.930414]\n",
      "[47.481766, 50.637772, 47.481766, 50.637772, 47.481766, 50.637772]\n"
     ]
    }
   ],
   "source": [
    "for i in Asia_data:\n",
    "    percent =i[4]/i[3]*100\n",
    "    if percent <=5:\n",
    "        lat_low.append(i[1])\n",
    "        lon_low.append(i[2])\n",
    "    elif 5<percent<10:\n",
    "        lat_med.append(i[1])\n",
    "        lon_med.append(i[2])\n",
    "    else:\n",
    "        lat_high.append(i[1])\n",
    "        lon_high.append(i[2])\n",
    "print(lat_low)\n",
    "print(lon_low)\n",
    "print(lat_med)\n",
    "print(lon_med)\n",
    "print(lat_high)\n",
    "print(lon_high)"
   ]
  },
  {
   "cell_type": "markdown",
   "metadata": {},
   "source": [
    "We will reuse code from the Earthquakes final project here. \n",
    "\n",
    "Remember to replace the coordinates in plt.xlim and plt.ylim functions below as follows:\n",
    "- Africa: x = (-25,50), y = (-40,45)\n",
    "- Asia: x = (30,150), y = (5,55)\n",
    "- Europe: x = (-10,30), y = (35,70)\n",
    "- Latin & South America: x = (-90,-35), y = (-55,35)\n",
    "- Oceania: x = (-180,180), y = (-60,85)\n",
    "\n",
    "You will also have to create your own plt.scatter() plots. You will need to use the plt.scatter() function three times: once for each set of lists you created above. "
   ]
  },
  {
   "cell_type": "code",
   "execution_count": null,
   "metadata": {},
   "outputs": [],
   "source": [
    "# This code adds an image behind your plot\n",
    "image = plt.imread(\"earth.jpg\")\n",
    "fig, ax = plt.subplots()\n",
    "ax.imshow(image, extent = [-180,180,-90,90])\n",
    "\n",
    "# This code crops the image to show only your region. \n",
    "# IMPORTANT: Replace the coordinates in plt.xlim and plt.ylim functions\n",
    "# To match your region using the key above\n",
    "plt.xlim(0,0)\n",
    "plt.ylim(0,0)\n",
    "\n",
    "# Create three scatter plots using plt.scatter(). \n",
    "# You can change the size, shape, and color of your markers! \n",
    "# example: plt.scatter(lon_low, lat_low, s = 35, marker = \"o\", c = \"yellow\", edgecolors=\"black\")\n",
    "\n",
    "# don't forget plt.show()!\n",
    "plt.show()"
   ]
  }
 ],
 "metadata": {
  "kernelspec": {
   "display_name": "Python 3",
   "language": "python",
   "name": "python3"
  },
  "language_info": {
   "codemirror_mode": {
    "name": "ipython",
    "version": 3
   },
   "file_extension": ".py",
   "mimetype": "text/x-python",
   "name": "python",
   "nbconvert_exporter": "python",
   "pygments_lexer": "ipython3",
   "version": "3.7.3"
  }
 },
 "nbformat": 4,
 "nbformat_minor": 2
}
