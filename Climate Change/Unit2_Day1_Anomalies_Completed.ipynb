{
 "cells": [
  {
   "cell_type": "markdown",
   "metadata": {
    "deletable": true,
    "editable": true
   },
   "source": [
    "# Calculating temperature anomalies\n",
    "\n",
    "In climate change studies, temperature anomalies are more important than average temperatures. They eliminate bias due to measurement station location or lost data points.\n",
    "\n",
    "A temperature anomaly is the **difference from an average**, or baseline, temperature. A positive anomaly means the observed temperature was warmer than the baseline, while a negative anomaly means the observed temperature was cooler than the baseline. \n",
    "\n",
    "Let's calculate some anomalies!\n",
    "\n",
    "**Reminder: To run the code in a Jupyter notebook cell, click inside the cell and press \"shift\" and \"return\" on your keyboard at the same time.**"
   ]
  },
  {
   "cell_type": "markdown",
   "metadata": {
    "deletable": true,
    "editable": true
   },
   "source": [
    "First we will import the numpy library: it has useful functions including np.mean() which calculates an average."
   ]
  },
  {
   "cell_type": "code",
   "execution_count": 1,
   "metadata": {
    "collapsed": true,
    "deletable": true,
    "editable": true
   },
   "outputs": [],
   "source": [
    "import numpy as np"
   ]
  },
  {
   "cell_type": "markdown",
   "metadata": {
    "deletable": true,
    "editable": true
   },
   "source": [
    "## Finding the baseline \n",
    "To find the difference from an average, we first need to calculate the average itself (the baseline)! \n",
    "\n",
    "Climate scientists use the 20th century average for reference. The list below contains the average global temperature in Celsius from 1901 - 2000 (20 degrees Celsius is room temperature).\n",
    "\n",
    "Find the mean (average) of this list and assign it to a variable:"
   ]
  },
  {
   "cell_type": "code",
   "execution_count": 4,
   "metadata": {
    "collapsed": true,
    "deletable": true,
    "editable": true
   },
   "outputs": [],
   "source": [
    "temps_20th = [13.79, 13.70, 13.64, 13.56, 13.70, 13.74, 13.58, 13.57, 13.53, 13.54, 13.56, 13.59, 13.61, 13.77, \n",
    "              13.84, 13.64, 13.56, 13.69, 13.71, 13.73, 13.80, 13.71, 13.75, 13.76, 13.79, 13.91, 13.82, 13.84, \n",
    "              13.69, 13.88, 13.93, 13.89, 13.75, 13.91, 13.85, 13.90, 14.03, 14.06, 14.01, 14.07, 14.08, 14.05, \n",
    "              14.06, 14.14, 14.00, 13.92, 13.96, 13.90, 13.89, 13.81, 13.94, 14.02, 14.09, 13.89, 13.88, 13.82, \n",
    "              14.04, 14.04, 14.02, 13.96, 14.05, 14.04, 14.07, 13.80, 13.90, 13.96, 13.99, 13.95, 14.06, 14.04, \n",
    "              13.93, 14.02, 14.16, 13.93, 13.99, 13.88, 14.15, 14.06, 14.12, 14.23, 14.28, 14.09, 14.27, 14.12, \n",
    "              14.08, 14.15, 14.29, 14.35, 14.24, 14.39, 14.38, 14.19, 14.21, 14.29, 14.43, 14.33, 14.46, 14.62, \n",
    "              14.41, 14.41]\n",
    "\n",
    "avg = np.mean(temps_20th)"
   ]
  },
  {
   "cell_type": "markdown",
   "metadata": {
    "deletable": true,
    "editable": true
   },
   "source": [
    "Print out the average:"
   ]
  },
  {
   "cell_type": "code",
   "execution_count": 5,
   "metadata": {
    "collapsed": false,
    "deletable": true,
    "editable": true
   },
   "outputs": [
    {
     "name": "stdout",
     "output_type": "stream",
     "text": [
      "13.9623\n"
     ]
    }
   ],
   "source": [
    "print(avg)"
   ]
  },
  {
   "cell_type": "markdown",
   "metadata": {
    "deletable": true,
    "editable": true
   },
   "source": [
    "## Finding the anomalies\n",
    "\n",
    "Look on Slack for your dates and copy the correct list of yearly average temperatures into the cell below (remember to assign it to a variable):\n",
    "- Table 1: 1880 - 1904\n",
    "- Table 2: 1905 - 1929\n",
    "- Table 3: 1930 - 1954\n",
    "- Table 4: 1955 - 1979\n",
    "- Table 5: 1980 - 2013"
   ]
  },
  {
   "cell_type": "code",
   "execution_count": 6,
   "metadata": {
    "collapsed": true,
    "deletable": true,
    "editable": true
   },
   "outputs": [],
   "source": [
    "my_temps = [13.79, 13.88, 13.84, 13.82, 13.74, 13.75, 13.76, 13.69, 13.81, 13.91, 13.68,\n",
    "            13.74, 13.69, 13.65, 13.68, 13.75, 13.82, 13.82, 13.69, 13.80, 13.85, 13.79,\n",
    "            13.70, 13.64, 13.56]"
   ]
  },
  {
   "cell_type": "markdown",
   "metadata": {
    "deletable": true,
    "editable": true
   },
   "source": [
    "Now it's time to calculate the anomalies for your date range. Your goal is to create a new list that contains anomalies for each year (that year's average temperature - the 20th century average we calculated above).\n",
    "\n",
    "Hints:\n",
    "- You will need a \"for loop\"\n",
    "- You will need to create an empty list\n",
    "- Try pseudocoding if you're not sure how to proceed!"
   ]
  },
  {
   "cell_type": "code",
   "execution_count": 7,
   "metadata": {
    "collapsed": true,
    "deletable": true,
    "editable": true
   },
   "outputs": [],
   "source": [
    "anomalies = []\n",
    "for i in my_temps:\n",
    "    anomalies.append(i-avg)"
   ]
  },
  {
   "cell_type": "markdown",
   "metadata": {
    "deletable": true,
    "editable": true
   },
   "source": [
    "Print out your list of anomalies below:"
   ]
  },
  {
   "cell_type": "code",
   "execution_count": 8,
   "metadata": {
    "collapsed": false,
    "deletable": true,
    "editable": true
   },
   "outputs": [
    {
     "name": "stdout",
     "output_type": "stream",
     "text": [
      "[-0.17230000000000167, -0.08230000000000004, -0.12230000000000096, -0.14230000000000054, -0.2223000000000006, -0.21230000000000082, -0.20230000000000103, -0.2723000000000013, -0.15230000000000032, -0.05230000000000068, -0.2823000000000011, -0.2223000000000006, -0.2723000000000013, -0.31230000000000047, -0.2823000000000011, -0.21230000000000082, -0.14230000000000054, -0.14230000000000054, -0.2723000000000013, -0.1623000000000001, -0.11230000000000118, -0.17230000000000167, -0.26230000000000153, -0.32230000000000025, -0.4023000000000003]\n"
     ]
    }
   ],
   "source": [
    "print(anomalies)"
   ]
  }
 ],
 "metadata": {
  "kernelspec": {
   "display_name": "Python 3",
   "language": "python",
   "name": "python3"
  },
  "language_info": {
   "codemirror_mode": {
    "name": "ipython",
    "version": 3
   },
   "file_extension": ".py",
   "mimetype": "text/x-python",
   "name": "python",
   "nbconvert_exporter": "python",
   "pygments_lexer": "ipython3",
   "version": "3.5.2"
  }
 },
 "nbformat": 4,
 "nbformat_minor": 2
}
